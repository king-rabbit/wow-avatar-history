{
 "cells": [
  {
   "cell_type": "code",
   "execution_count": 1,
   "metadata": {},
   "outputs": [],
   "source": [
    "import pandas as pd\n",
    "import numpy as np\n",
    "from datetime import datetime, timedelta\n",
    "import matplotlib.pyplot as plt\n",
    "import seaborn as sns\n",
    "import plotly.express as px"
   ]
  },
  {
   "cell_type": "code",
   "execution_count": 2,
   "metadata": {},
   "outputs": [],
   "source": [
    "df = pd.read_csv('wowah_data.csv')"
   ]
  },
  {
   "cell_type": "code",
   "execution_count": 3,
   "metadata": {},
   "outputs": [
    {
     "data": {
      "text/html": [
       "<div>\n",
       "<style scoped>\n",
       "    .dataframe tbody tr th:only-of-type {\n",
       "        vertical-align: middle;\n",
       "    }\n",
       "\n",
       "    .dataframe tbody tr th {\n",
       "        vertical-align: top;\n",
       "    }\n",
       "\n",
       "    .dataframe thead th {\n",
       "        text-align: right;\n",
       "    }\n",
       "</style>\n",
       "<table border=\"1\" class=\"dataframe\">\n",
       "  <thead>\n",
       "    <tr style=\"text-align: right;\">\n",
       "      <th></th>\n",
       "      <th>char</th>\n",
       "      <th>level</th>\n",
       "      <th>race</th>\n",
       "      <th>charclass</th>\n",
       "      <th>zone</th>\n",
       "      <th>guild</th>\n",
       "      <th>timestamp</th>\n",
       "    </tr>\n",
       "  </thead>\n",
       "  <tbody>\n",
       "    <tr>\n",
       "      <th>0</th>\n",
       "      <td>59425</td>\n",
       "      <td>1</td>\n",
       "      <td>Orc</td>\n",
       "      <td>Rogue</td>\n",
       "      <td>Orgrimmar</td>\n",
       "      <td>165</td>\n",
       "      <td>01/01/08 00:02:04</td>\n",
       "    </tr>\n",
       "    <tr>\n",
       "      <th>1</th>\n",
       "      <td>65494</td>\n",
       "      <td>9</td>\n",
       "      <td>Orc</td>\n",
       "      <td>Hunter</td>\n",
       "      <td>Durotar</td>\n",
       "      <td>-1</td>\n",
       "      <td>01/01/08 00:02:04</td>\n",
       "    </tr>\n",
       "    <tr>\n",
       "      <th>2</th>\n",
       "      <td>65325</td>\n",
       "      <td>14</td>\n",
       "      <td>Orc</td>\n",
       "      <td>Warrior</td>\n",
       "      <td>Ghostlands</td>\n",
       "      <td>-1</td>\n",
       "      <td>01/01/08 00:02:04</td>\n",
       "    </tr>\n",
       "    <tr>\n",
       "      <th>3</th>\n",
       "      <td>65490</td>\n",
       "      <td>18</td>\n",
       "      <td>Orc</td>\n",
       "      <td>Hunter</td>\n",
       "      <td>Ghostlands</td>\n",
       "      <td>-1</td>\n",
       "      <td>01/01/08 00:02:04</td>\n",
       "    </tr>\n",
       "    <tr>\n",
       "      <th>4</th>\n",
       "      <td>2288</td>\n",
       "      <td>60</td>\n",
       "      <td>Orc</td>\n",
       "      <td>Hunter</td>\n",
       "      <td>Hellfire Peninsula</td>\n",
       "      <td>-1</td>\n",
       "      <td>01/01/08 00:02:09</td>\n",
       "    </tr>\n",
       "  </tbody>\n",
       "</table>\n",
       "</div>"
      ],
      "text/plain": [
       "    char   level  race  charclass                zone   guild  \\\n",
       "0  59425       1   Orc      Rogue           Orgrimmar     165   \n",
       "1  65494       9   Orc     Hunter             Durotar      -1   \n",
       "2  65325      14   Orc    Warrior          Ghostlands      -1   \n",
       "3  65490      18   Orc     Hunter          Ghostlands      -1   \n",
       "4   2288      60   Orc     Hunter  Hellfire Peninsula      -1   \n",
       "\n",
       "           timestamp  \n",
       "0  01/01/08 00:02:04  \n",
       "1  01/01/08 00:02:04  \n",
       "2  01/01/08 00:02:04  \n",
       "3  01/01/08 00:02:04  \n",
       "4  01/01/08 00:02:09  "
      ]
     },
     "execution_count": 3,
     "metadata": {},
     "output_type": "execute_result"
    }
   ],
   "source": [
    "df.head()"
   ]
  },
  {
   "cell_type": "code",
   "execution_count": 4,
   "metadata": {},
   "outputs": [
    {
     "name": "stdout",
     "output_type": "stream",
     "text": [
      "<class 'pandas.core.frame.DataFrame'>\n",
      "RangeIndex: 10826734 entries, 0 to 10826733\n",
      "Data columns (total 7 columns):\n",
      " #   Column      Dtype \n",
      "---  ------      ----- \n",
      " 0   char        int64 \n",
      " 1    level      int64 \n",
      " 2    race       object\n",
      " 3    charclass  object\n",
      " 4    zone       object\n",
      " 5    guild      int64 \n",
      " 6    timestamp  object\n",
      "dtypes: int64(3), object(4)\n",
      "memory usage: 578.2+ MB\n"
     ]
    }
   ],
   "source": [
    "df.info()"
   ]
  },
  {
   "cell_type": "code",
   "execution_count": 5,
   "metadata": {},
   "outputs": [],
   "source": [
    "## 전처리"
   ]
  },
  {
   "cell_type": "code",
   "execution_count": 6,
   "metadata": {},
   "outputs": [],
   "source": [
    "# 컬럼명에 있는 공백 제거\n",
    "for col in df.columns:\n",
    "    df = df.rename(columns={col:col.strip()})"
   ]
  },
  {
   "cell_type": "code",
   "execution_count": 7,
   "metadata": {},
   "outputs": [],
   "source": [
    "# timestamp 컬럼 datetime 유형으로 변경\n",
    "df['time'] = pd.to_datetime(df['timestamp'])"
   ]
  },
  {
   "cell_type": "code",
   "execution_count": 8,
   "metadata": {},
   "outputs": [],
   "source": [
    "df = df.rename(columns={'time':'datetime'})"
   ]
  },
  {
   "cell_type": "code",
   "execution_count": 9,
   "metadata": {},
   "outputs": [],
   "source": [
    "df['year'] = df['datetime'].dt.year  \n",
    "df['month'] = df['datetime'].dt.month  "
   ]
  },
  {
   "cell_type": "code",
   "execution_count": 10,
   "metadata": {},
   "outputs": [],
   "source": [
    "df['date'] = df['datetime'].dt.date  \n",
    "df['time'] = df['datetime'].dt.time  "
   ]
  },
  {
   "cell_type": "code",
   "execution_count": 11,
   "metadata": {},
   "outputs": [],
   "source": [
    "df = df.sort_values(by=['char', 'datetime']).reset_index(drop=True)\n",
    "df['datetime_lag'] = df.groupby(by=['char'])['datetime'].shift(1) # 유저별로 이전 쿼리 시간 가져오기\n",
    "df['time_diff_lag'] = df['datetime'] - df['datetime_lag'] # 이전 쿼리와의 시간 차 계산\n",
    "first_play_time_idx = df[df.time_diff_lag.isna()].index  # 유저별 최초 접속 시간 행의 인덱스\n",
    "first_session_time_idx = df[df['time_diff_lag'] > timedelta(minutes = 30)].index  # 유저별 세션 시작 시간 행의 인덱스"
   ]
  },
  {
   "cell_type": "code",
   "execution_count": 12,
   "metadata": {},
   "outputs": [],
   "source": [
    "df['session_status'] = 9999\n",
    "\n",
    "df.loc[first_session_time_idx, 'session_status'] = 1  # 세션이 시작된 시간\n",
    "df.loc[(first_session_time_idx - 1), 'session_status'] = 2  # 세션이 끝난 시간\n",
    "df.loc[first_play_time_idx, 'session_status'] = 1  # 유저별 최초 접속 시간"
   ]
  },
  {
   "cell_type": "code",
   "execution_count": 13,
   "metadata": {},
   "outputs": [],
   "source": [
    "df = df.sort_values(by=['char', 'datetime'], ascending=False).reset_index(drop=True)\n",
    "df['datetime_lead'] = df.groupby(by=['char'])['datetime'].shift(1) # 유저별로 다음 쿼리 시간 가져오기\n",
    "df['time_diff_lead'] = df['datetime'] - df['datetime_lead'] # 다음 쿼리와의 시간 차 계산\n",
    "last_play_time_idx = df[df.time_diff_lead.isna()].index  # 유저별 최종 접속 시간 행의 인덱스\n",
    "\n",
    "df.loc[last_play_time_idx, 'session_status'] = 2  # 유저별 최종 접속 시간"
   ]
  },
  {
   "cell_type": "code",
   "execution_count": 14,
   "metadata": {},
   "outputs": [],
   "source": [
    "df_session = df[(df.session_status==1) | (df.session_status==2)]  # 시간 및 끝난 시간만 저장"
   ]
  },
  {
   "cell_type": "code",
   "execution_count": 15,
   "metadata": {},
   "outputs": [],
   "source": [
    "df_session = df_session.sort_values(by=['char', 'datetime']).reset_index(drop=True)"
   ]
  },
  {
   "cell_type": "code",
   "execution_count": 16,
   "metadata": {},
   "outputs": [],
   "source": [
    "del df_session['time_diff_lead']"
   ]
  },
  {
   "cell_type": "code",
   "execution_count": 17,
   "metadata": {},
   "outputs": [
    {
     "data": {
      "text/html": [
       "<div>\n",
       "<style scoped>\n",
       "    .dataframe tbody tr th:only-of-type {\n",
       "        vertical-align: middle;\n",
       "    }\n",
       "\n",
       "    .dataframe tbody tr th {\n",
       "        vertical-align: top;\n",
       "    }\n",
       "\n",
       "    .dataframe thead th {\n",
       "        text-align: right;\n",
       "    }\n",
       "</style>\n",
       "<table border=\"1\" class=\"dataframe\">\n",
       "  <thead>\n",
       "    <tr style=\"text-align: right;\">\n",
       "      <th></th>\n",
       "      <th>char</th>\n",
       "      <th>level</th>\n",
       "      <th>race</th>\n",
       "      <th>charclass</th>\n",
       "      <th>zone</th>\n",
       "      <th>guild</th>\n",
       "      <th>timestamp</th>\n",
       "      <th>datetime</th>\n",
       "      <th>year</th>\n",
       "      <th>month</th>\n",
       "      <th>date</th>\n",
       "      <th>time</th>\n",
       "      <th>datetime_lag</th>\n",
       "      <th>time_diff_lag</th>\n",
       "      <th>session_status</th>\n",
       "      <th>datetime_lead</th>\n",
       "    </tr>\n",
       "  </thead>\n",
       "  <tbody>\n",
       "    <tr>\n",
       "      <th>0</th>\n",
       "      <td>2</td>\n",
       "      <td>18</td>\n",
       "      <td>Orc</td>\n",
       "      <td>Shaman</td>\n",
       "      <td>The Barrens</td>\n",
       "      <td>6</td>\n",
       "      <td>12/03/08 10:41:47</td>\n",
       "      <td>2008-12-03 10:41:47</td>\n",
       "      <td>2008</td>\n",
       "      <td>12</td>\n",
       "      <td>2008-12-03</td>\n",
       "      <td>10:41:47</td>\n",
       "      <td>NaT</td>\n",
       "      <td>NaT</td>\n",
       "      <td>2</td>\n",
       "      <td>NaT</td>\n",
       "    </tr>\n",
       "    <tr>\n",
       "      <th>1</th>\n",
       "      <td>7</td>\n",
       "      <td>54</td>\n",
       "      <td>Orc</td>\n",
       "      <td>Hunter</td>\n",
       "      <td>Feralas</td>\n",
       "      <td>-1</td>\n",
       "      <td>01/15/08 21:47:09</td>\n",
       "      <td>2008-01-15 21:47:09</td>\n",
       "      <td>2008</td>\n",
       "      <td>1</td>\n",
       "      <td>2008-01-15</td>\n",
       "      <td>21:47:09</td>\n",
       "      <td>NaT</td>\n",
       "      <td>NaT</td>\n",
       "      <td>1</td>\n",
       "      <td>2008-01-15 21:56:54</td>\n",
       "    </tr>\n",
       "    <tr>\n",
       "      <th>2</th>\n",
       "      <td>7</td>\n",
       "      <td>55</td>\n",
       "      <td>Orc</td>\n",
       "      <td>Hunter</td>\n",
       "      <td>Orgrimmar</td>\n",
       "      <td>282</td>\n",
       "      <td>01/16/08 00:26:56</td>\n",
       "      <td>2008-01-16 00:26:56</td>\n",
       "      <td>2008</td>\n",
       "      <td>1</td>\n",
       "      <td>2008-01-16</td>\n",
       "      <td>00:26:56</td>\n",
       "      <td>2008-01-16 00:17:12</td>\n",
       "      <td>0 days 00:09:44</td>\n",
       "      <td>2</td>\n",
       "      <td>2008-01-16 21:57:02</td>\n",
       "    </tr>\n",
       "    <tr>\n",
       "      <th>3</th>\n",
       "      <td>7</td>\n",
       "      <td>55</td>\n",
       "      <td>Orc</td>\n",
       "      <td>Hunter</td>\n",
       "      <td>Orgrimmar</td>\n",
       "      <td>282</td>\n",
       "      <td>01/16/08 21:57:02</td>\n",
       "      <td>2008-01-16 21:57:02</td>\n",
       "      <td>2008</td>\n",
       "      <td>1</td>\n",
       "      <td>2008-01-16</td>\n",
       "      <td>21:57:02</td>\n",
       "      <td>2008-01-16 00:26:56</td>\n",
       "      <td>0 days 21:30:06</td>\n",
       "      <td>1</td>\n",
       "      <td>2008-01-16 22:07:09</td>\n",
       "    </tr>\n",
       "    <tr>\n",
       "      <th>4</th>\n",
       "      <td>7</td>\n",
       "      <td>55</td>\n",
       "      <td>Orc</td>\n",
       "      <td>Hunter</td>\n",
       "      <td>Orgrimmar</td>\n",
       "      <td>282</td>\n",
       "      <td>01/17/08 01:16:49</td>\n",
       "      <td>2008-01-17 01:16:49</td>\n",
       "      <td>2008</td>\n",
       "      <td>1</td>\n",
       "      <td>2008-01-17</td>\n",
       "      <td>01:16:49</td>\n",
       "      <td>2008-01-17 01:07:06</td>\n",
       "      <td>0 days 00:09:43</td>\n",
       "      <td>2</td>\n",
       "      <td>2008-01-17 18:47:07</td>\n",
       "    </tr>\n",
       "  </tbody>\n",
       "</table>\n",
       "</div>"
      ],
      "text/plain": [
       "   char  level race charclass         zone  guild          timestamp  \\\n",
       "0     2     18  Orc    Shaman  The Barrens      6  12/03/08 10:41:47   \n",
       "1     7     54  Orc    Hunter      Feralas     -1  01/15/08 21:47:09   \n",
       "2     7     55  Orc    Hunter    Orgrimmar    282  01/16/08 00:26:56   \n",
       "3     7     55  Orc    Hunter    Orgrimmar    282  01/16/08 21:57:02   \n",
       "4     7     55  Orc    Hunter    Orgrimmar    282  01/17/08 01:16:49   \n",
       "\n",
       "             datetime  year  month        date      time        datetime_lag  \\\n",
       "0 2008-12-03 10:41:47  2008     12  2008-12-03  10:41:47                 NaT   \n",
       "1 2008-01-15 21:47:09  2008      1  2008-01-15  21:47:09                 NaT   \n",
       "2 2008-01-16 00:26:56  2008      1  2008-01-16  00:26:56 2008-01-16 00:17:12   \n",
       "3 2008-01-16 21:57:02  2008      1  2008-01-16  21:57:02 2008-01-16 00:26:56   \n",
       "4 2008-01-17 01:16:49  2008      1  2008-01-17  01:16:49 2008-01-17 01:07:06   \n",
       "\n",
       "    time_diff_lag  session_status       datetime_lead  \n",
       "0             NaT               2                 NaT  \n",
       "1             NaT               1 2008-01-15 21:56:54  \n",
       "2 0 days 00:09:44               2 2008-01-16 21:57:02  \n",
       "3 0 days 21:30:06               1 2008-01-16 22:07:09  \n",
       "4 0 days 00:09:43               2 2008-01-17 18:47:07  "
      ]
     },
     "execution_count": 17,
     "metadata": {},
     "output_type": "execute_result"
    }
   ],
   "source": [
    "df_session.head()"
   ]
  },
  {
   "cell_type": "code",
   "execution_count": 18,
   "metadata": {},
   "outputs": [],
   "source": [
    "df_session['datetime_lag'] = df_session.groupby(by=['char'])['datetime'].shift(1) # 세션이 시작된 시간(이전 행 값)을 세션이 끝난 시간과 동일한 행에 배치"
   ]
  },
  {
   "cell_type": "code",
   "execution_count": 19,
   "metadata": {},
   "outputs": [],
   "source": [
    "df_session['time_diff'] = df_session['datetime'] - df_session['datetime_lag']  # 세션별 게임 플레이 시간 계산"
   ]
  },
  {
   "cell_type": "code",
   "execution_count": 21,
   "metadata": {},
   "outputs": [],
   "source": [
    "session_start = df_session[df_session.session_status==1][[ 'char', 'level', 'race', 'charclass', 'zone', 'guild', 'timestamp', 'datetime']]\n",
    "session_end = df_session[df_session.session_status==2][[ 'char', 'level', 'race', 'charclass', 'zone', 'guild', 'timestamp', 'datetime', 'time_diff']]\n",
    "\n",
    "session_start = session_start.rename(columns={'datetime':'session_start'})\n",
    "session_end = session_end.rename(columns={'datetime':'session_end', 'time_diff':'playtime'})"
   ]
  },
  {
   "cell_type": "code",
   "execution_count": 22,
   "metadata": {},
   "outputs": [],
   "source": [
    "session_end['date'] = session_end['session_end'].dt.date  \n",
    "session_end.reset_index(drop=True, inplace=True)\n",
    "session_end['playtime_hours'] = [time.total_seconds()/3600 for time in session_end.playtime]"
   ]
  },
  {
   "cell_type": "code",
   "execution_count": 23,
   "metadata": {},
   "outputs": [
    {
     "data": {
      "text/html": [
       "<div>\n",
       "<style scoped>\n",
       "    .dataframe tbody tr th:only-of-type {\n",
       "        vertical-align: middle;\n",
       "    }\n",
       "\n",
       "    .dataframe tbody tr th {\n",
       "        vertical-align: top;\n",
       "    }\n",
       "\n",
       "    .dataframe thead th {\n",
       "        text-align: right;\n",
       "    }\n",
       "</style>\n",
       "<table border=\"1\" class=\"dataframe\">\n",
       "  <thead>\n",
       "    <tr style=\"text-align: right;\">\n",
       "      <th></th>\n",
       "      <th>char</th>\n",
       "      <th>level</th>\n",
       "      <th>race</th>\n",
       "      <th>charclass</th>\n",
       "      <th>zone</th>\n",
       "      <th>guild</th>\n",
       "      <th>timestamp</th>\n",
       "      <th>session_end</th>\n",
       "      <th>playtime</th>\n",
       "      <th>date</th>\n",
       "      <th>playtime_hours</th>\n",
       "    </tr>\n",
       "  </thead>\n",
       "  <tbody>\n",
       "    <tr>\n",
       "      <th>0</th>\n",
       "      <td>2</td>\n",
       "      <td>18</td>\n",
       "      <td>Orc</td>\n",
       "      <td>Shaman</td>\n",
       "      <td>The Barrens</td>\n",
       "      <td>6</td>\n",
       "      <td>12/03/08 10:41:47</td>\n",
       "      <td>2008-12-03 10:41:47</td>\n",
       "      <td>NaT</td>\n",
       "      <td>2008-12-03</td>\n",
       "      <td>NaN</td>\n",
       "    </tr>\n",
       "    <tr>\n",
       "      <th>1</th>\n",
       "      <td>7</td>\n",
       "      <td>55</td>\n",
       "      <td>Orc</td>\n",
       "      <td>Hunter</td>\n",
       "      <td>Orgrimmar</td>\n",
       "      <td>282</td>\n",
       "      <td>01/16/08 00:26:56</td>\n",
       "      <td>2008-01-16 00:26:56</td>\n",
       "      <td>0 days 02:39:47</td>\n",
       "      <td>2008-01-16</td>\n",
       "      <td>2.663056</td>\n",
       "    </tr>\n",
       "    <tr>\n",
       "      <th>2</th>\n",
       "      <td>7</td>\n",
       "      <td>55</td>\n",
       "      <td>Orc</td>\n",
       "      <td>Hunter</td>\n",
       "      <td>Orgrimmar</td>\n",
       "      <td>282</td>\n",
       "      <td>01/17/08 01:16:49</td>\n",
       "      <td>2008-01-17 01:16:49</td>\n",
       "      <td>0 days 03:19:47</td>\n",
       "      <td>2008-01-17</td>\n",
       "      <td>3.329722</td>\n",
       "    </tr>\n",
       "    <tr>\n",
       "      <th>3</th>\n",
       "      <td>7</td>\n",
       "      <td>56</td>\n",
       "      <td>Orc</td>\n",
       "      <td>Hunter</td>\n",
       "      <td>Undercity</td>\n",
       "      <td>282</td>\n",
       "      <td>01/18/08 00:07:32</td>\n",
       "      <td>2008-01-18 00:07:32</td>\n",
       "      <td>0 days 05:20:25</td>\n",
       "      <td>2008-01-18</td>\n",
       "      <td>5.340278</td>\n",
       "    </tr>\n",
       "    <tr>\n",
       "      <th>4</th>\n",
       "      <td>7</td>\n",
       "      <td>56</td>\n",
       "      <td>Orc</td>\n",
       "      <td>Hunter</td>\n",
       "      <td>Undercity</td>\n",
       "      <td>282</td>\n",
       "      <td>01/19/08 01:47:16</td>\n",
       "      <td>2008-01-19 01:47:16</td>\n",
       "      <td>0 days 02:30:03</td>\n",
       "      <td>2008-01-19</td>\n",
       "      <td>2.500833</td>\n",
       "    </tr>\n",
       "  </tbody>\n",
       "</table>\n",
       "</div>"
      ],
      "text/plain": [
       "   char  level race charclass         zone  guild          timestamp  \\\n",
       "0     2     18  Orc    Shaman  The Barrens      6  12/03/08 10:41:47   \n",
       "1     7     55  Orc    Hunter    Orgrimmar    282  01/16/08 00:26:56   \n",
       "2     7     55  Orc    Hunter    Orgrimmar    282  01/17/08 01:16:49   \n",
       "3     7     56  Orc    Hunter    Undercity    282  01/18/08 00:07:32   \n",
       "4     7     56  Orc    Hunter    Undercity    282  01/19/08 01:47:16   \n",
       "\n",
       "          session_end        playtime        date  playtime_hours  \n",
       "0 2008-12-03 10:41:47             NaT  2008-12-03             NaN  \n",
       "1 2008-01-16 00:26:56 0 days 02:39:47  2008-01-16        2.663056  \n",
       "2 2008-01-17 01:16:49 0 days 03:19:47  2008-01-17        3.329722  \n",
       "3 2008-01-18 00:07:32 0 days 05:20:25  2008-01-18        5.340278  \n",
       "4 2008-01-19 01:47:16 0 days 02:30:03  2008-01-19        2.500833  "
      ]
     },
     "execution_count": 23,
     "metadata": {},
     "output_type": "execute_result"
    }
   ],
   "source": [
    "session_end.head()"
   ]
  },
  {
   "cell_type": "code",
   "execution_count": 24,
   "metadata": {},
   "outputs": [],
   "source": [
    "mt_24 = session_end[session_end.playtime_hours>24].index\n",
    "session_end_mt24 = session_end.loc[mt_24]"
   ]
  },
  {
   "cell_type": "code",
   "execution_count": 25,
   "metadata": {},
   "outputs": [],
   "source": [
    "session_end_mt24.playtime = session_end_mt24.playtime.dt.round('12h')  # 12시간 단위로 일(day) 반올림\n",
    "session_end_mt24['playtime_days'] = [time.days for time in session_end_mt24.playtime]\n",
    "session_end_mt24['playtime_per_day'] = session_end_mt24['playtime_hours'] / session_end_mt24['playtime_days'] "
   ]
  },
  {
   "cell_type": "code",
   "execution_count": 26,
   "metadata": {},
   "outputs": [],
   "source": [
    "del session_end_mt24['playtime_days']\n",
    "del session_end_mt24['playtime_hours']\n",
    "session_end_mt24 = session_end_mt24.rename(columns={'playtime_per_day':'playtime_hours'})"
   ]
  },
  {
   "cell_type": "code",
   "execution_count": 27,
   "metadata": {},
   "outputs": [],
   "source": [
    "lt_24 = session_end[session_end.playtime_hours<24].index\n",
    "session_end_lt_24 = session_end.loc[lt_24]"
   ]
  },
  {
   "cell_type": "code",
   "execution_count": 28,
   "metadata": {},
   "outputs": [],
   "source": [
    "session_end_re = pd.concat([session_end_lt_24, session_end_mt24])"
   ]
  },
  {
   "cell_type": "code",
   "execution_count": 29,
   "metadata": {},
   "outputs": [],
   "source": [
    "playtime_daily_per_user = session_end_re.groupby(by=['date', 'char']).playtime_hours.sum().reset_index()  # 날짜 및 유저별 플레이 시간"
   ]
  },
  {
   "cell_type": "code",
   "execution_count": 30,
   "metadata": {},
   "outputs": [],
   "source": [
    "daily_average_playtime = playtime_daily_per_user.groupby('date').playtime_hours.mean().reset_index() # 날짜별 유저당 평균 플레이 시간"
   ]
  },
  {
   "cell_type": "code",
   "execution_count": 31,
   "metadata": {},
   "outputs": [
    {
     "data": {
      "text/plain": [
       "count    352.000000\n",
       "mean       8.119055\n",
       "std        0.823007\n",
       "min        4.091214\n",
       "25%        7.731636\n",
       "50%        8.150971\n",
       "75%        8.589386\n",
       "max       10.617245\n",
       "Name: playtime_hours, dtype: float64"
      ]
     },
     "execution_count": 31,
     "metadata": {},
     "output_type": "execute_result"
    }
   ],
   "source": [
    "daily_average_playtime.playtime_hours.describe()"
   ]
  },
  {
   "cell_type": "code",
   "execution_count": 32,
   "metadata": {},
   "outputs": [
    {
     "data": {
      "text/plain": [
       "<AxesSubplot:xlabel='date', ylabel='playtime_hours'>"
      ]
     },
     "execution_count": 32,
     "metadata": {},
     "output_type": "execute_result"
    },
    {
     "data": {
      "image/png": "[encoded data removed]",
      "text/plain": [
       "<Figure size 720x288 with 1 Axes>"
      ]
     },
     "metadata": {
      "needs_background": "light"
     },
     "output_type": "display_data"
    }
   ],
   "source": [
    "#daily average play time per users\n",
    "plt.figure(figsize = (10,4))\n",
    "sns.set(style='darkgrid')\n",
    "sns.lineplot(x='date', y='playtime_hours', data=daily_average_playtime) "
   ]
  },
  {
   "cell_type": "code",
   "execution_count": 33,
   "metadata": {},
   "outputs": [],
   "source": [
    "daily_median_playtime = playtime_daily_per_user.groupby('date').playtime_hours.median().reset_index() # 날짜별 유저당 평균 플레이 시간"
   ]
  },
  {
   "cell_type": "code",
   "execution_count": 34,
   "metadata": {},
   "outputs": [
    {
     "data": {
      "text/plain": [
       "count    352.000000\n",
       "mean       3.729820\n",
       "std        0.783731\n",
       "min        1.668056\n",
       "25%        3.189375\n",
       "50%        3.648264\n",
       "75%        4.180903\n",
       "max        6.670000\n",
       "Name: playtime_hours, dtype: float64"
      ]
     },
     "execution_count": 34,
     "metadata": {},
     "output_type": "execute_result"
    }
   ],
   "source": [
    "daily_median_playtime.playtime_hours.describe()"
   ]
  },
  {
   "cell_type": "code",
   "execution_count": 35,
   "metadata": {},
   "outputs": [
    {
     "data": {
      "text/plain": [
       "<AxesSubplot:xlabel='date', ylabel='playtime_hours'>"
      ]
     },
     "execution_count": 35,
     "metadata": {},
     "output_type": "execute_result"
    },
    {
     "data": {
      "image/png": "[encoded data removed]",
      "text/plain": [
       "<Figure size 720x288 with 1 Axes>"
      ]
     },
     "metadata": {},
     "output_type": "display_data"
    }
   ],
   "source": [
    "#daily median play time per users\n",
    "plt.figure(figsize = (10,4))\n",
    "sns.set(style='darkgrid')\n",
    "sns.lineplot(x='date', y='playtime_hours', data=daily_median_playtime) "
   ]
  },
  {
   "cell_type": "code",
   "execution_count": null,
   "metadata": {},
   "outputs": [],
   "source": []
  },
  {
   "cell_type": "code",
   "execution_count": 36,
   "metadata": {},
   "outputs": [],
   "source": [
    "#dau\n",
    "dau = pd.DataFrame(df.groupby('date').char.nunique()).reset_index()"
   ]
  },
  {
   "cell_type": "code",
   "execution_count": 37,
   "metadata": {},
   "outputs": [],
   "source": [
    "#mau\n",
    "mau = pd.DataFrame(df.groupby(by=['year','month']).char.nunique()).reset_index()"
   ]
  },
  {
   "cell_type": "code",
   "execution_count": 53,
   "metadata": {},
   "outputs": [
    {
     "data": {
      "application/vnd.plotly.v1+json": {
       "config": {
        "plotlyServerURL": "https://plot.ly"
       },
       "data": [
        {
         "hovertemplate": "date=%{x}<br>char=%{y}<extra></extra>",
         "legendgroup": "",
         "line": {
          "color": "#636efa",
          "dash": "solid"
         },
         "mode": "lines",
         "name": "",
         "orientation": "v",
         "showlegend": false,
         "type": "scatter",
         "x": [
          "2008-01-01",
          "2008-01-02",
          "2008-01-03",
          "2008-01-04",
          "2008-01-05",
          "2008-01-06",
          "2008-01-07",
          "2008-01-08",
          "2008-01-09",
          "2008-01-10",
          "2008-01-11",
          "2008-01-12",
          "2008-01-13",
          "2008-01-14",
          "2008-01-15",
          "2008-01-16",
          "2008-01-17",
          "2008-01-18",
          "2008-01-19",
          "2008-01-20",
          "2008-01-21",
          "2008-01-22",
          "2008-01-23",
          "2008-01-24",
          "2008-01-25",
          "2008-01-26",
          "2008-01-27",
          "2008-01-28",
          "2008-01-29",
          "2008-01-30",
          "2008-01-31",
          "2008-02-01",
          "2008-02-02",
          "2008-02-03",
          "2008-02-04",
          "2008-02-05",
          "2008-02-06",
          "2008-02-07",
          "2008-02-08",
          "2008-02-09",
          "2008-02-10",
          "2008-02-11",
          "2008-02-12",
          "2008-02-13",
          "2008-02-14",
          "2008-02-15",
          "2008-02-16",
          "2008-02-17",
          "2008-02-18",
          "2008-02-19",
          "2008-02-20",
          "2008-02-21",
          "2008-02-22",
          "2008-02-23",
          "2008-02-24",
          "2008-02-25",
          "2008-02-26",
          "2008-02-27",
          "2008-02-28",
          "2008-02-29",
          "2008-03-01",
          "2008-03-02",
          "2008-03-03",
          "2008-03-04",
          "2008-03-05",
          "2008-03-06",
          "2008-03-07",
          "2008-03-08",
          "2008-03-09",
          "2008-03-10",
          "2008-03-11",
          "2008-03-12",
          "2008-03-13",
          "2008-03-14",
          "2008-03-15",
          "2008-03-16",
          "2008-03-17",
          "2008-03-18",
          "2008-03-19",
          "2008-03-20",
          "2008-03-21",
          "2008-03-22",
          "2008-03-23",
          "2008-03-24",
          "2008-03-25",
          "2008-03-26",
          "2008-03-27",
          "2008-03-28",
          "2008-03-29",
          "2008-03-30",
          "2008-03-31",
          "2008-04-01",
          "2008-04-02",
          "2008-04-03",
          "2008-04-07",
          "2008-04-08",
          "2008-04-09",
          "2008-04-10",
          "2008-04-11",
          "2008-04-12",
          "2008-04-13",
          "2008-04-14",
          "2008-04-15",
          "2008-04-16",
          "2008-04-17",
          "2008-04-18",
          "2008-04-19",
          "2008-04-20",
          "2008-04-21",
          "2008-04-22",
          "2008-04-23",
          "2008-04-24",
          "2008-04-25",
          "2008-04-26",
          "2008-04-27",
          "2008-04-28",
          "2008-04-29",
          "2008-04-30",
          "2008-05-06",
          "2008-05-07",
          "2008-05-08",
          "2008-05-09",
          "2008-05-10",
          "2008-05-11",
          "2008-05-12",
          "2008-05-13",
          "2008-05-14",
          "2008-05-15",
          "2008-05-16",
          "2008-05-19",
          "2008-05-20",
          "2008-05-21",
          "2008-05-22",
          "2008-05-23",
          "2008-05-24",
          "2008-05-25",
          "2008-05-26",
          "2008-05-27",
          "2008-05-28",
          "2008-05-29",
          "2008-05-30",
          "2008-05-31",
          "2008-06-01",
          "2008-06-02",
          "2008-06-03",
          "2008-06-04",
          "2008-06-05",
          "2008-06-06",
          "2008-06-07",
          "2008-06-08",
          "2008-06-09",
          "2008-06-10",
          "2008-06-11",
          "2008-06-12",
          "2008-06-13",
          "2008-06-18",
          "2008-06-19",
          "2008-06-20",
          "2008-06-21",
          "2008-06-22",
          "2008-06-23",
          "2008-06-24",
          "2008-06-25",
          "2008-06-26",
          "2008-06-27",
          "2008-06-28",
          "2008-06-29",
          "2008-06-30",
          "2008-07-01",
          "2008-07-02",
          "2008-07-03",
          "2008-07-04",
          "2008-07-05",
          "2008-07-06",
          "2008-07-07",
          "2008-07-08",
          "2008-07-09",
          "2008-07-10",
          "2008-07-11",
          "2008-07-12",
          "2008-07-13",
          "2008-07-14",
          "2008-07-15",
          "2008-07-16",
          "2008-07-17",
          "2008-07-18",
          "2008-07-19",
          "2008-07-20",
          "2008-07-21",
          "2008-07-22",
          "2008-07-23",
          "2008-07-24",
          "2008-07-25",
          "2008-07-26",
          "2008-07-27",
          "2008-07-28",
          "2008-07-29",
          "2008-07-30",
          "2008-07-31",
          "2008-08-01",
          "2008-08-02",
          "2008-08-03",
          "2008-08-04",
          "2008-08-05",
          "2008-08-06",
          "2008-08-07",
          "2008-08-08",
          "2008-08-09",
          "2008-08-10",
          "2008-08-11",
          "2008-08-12",
          "2008-08-13",
          "2008-08-14",
          "2008-08-15",
          "2008-08-16",
          "2008-08-17",
          "2008-08-18",
          "2008-08-19",
          "2008-08-20",
          "2008-08-21",
          "2008-08-22",
          "2008-08-23",
          "2008-08-24",
          "2008-08-25",
          "2008-08-26",
          "2008-08-27",
          "2008-08-28",
          "2008-08-29",
          "2008-08-30",
          "2008-08-31",
          "2008-09-01",
          "2008-09-02",
          "2008-09-03",
          "2008-09-04",
          "2008-09-05",
          "2008-09-06",
          "2008-09-07",
          "2008-09-08",
          "2008-09-09",
          "2008-09-10",
          "2008-09-11",
          "2008-09-12",
          "2008-09-13",
          "2008-09-14",
          "2008-09-15",
          "2008-09-16",
          "2008-09-17",
          "2008-09-18",
          "2008-09-19",
          "2008-09-20",
          "2008-09-21",
          "2008-09-22",
          "2008-09-23",
          "2008-09-24",
          "2008-09-25",
          "2008-09-26",
          "2008-09-27",
          "2008-09-28",
          "2008-09-29",
          "2008-09-30",
          "2008-10-01",
          "2008-10-02",
          "2008-10-03",
          "2008-10-04",
          "2008-10-05",
          "2008-10-06",
          "2008-10-07",
          "2008-10-08",
          "2008-10-09",
          "2008-10-10",
          "2008-10-11",
          "2008-10-12",
          "2008-10-13",
          "2008-10-14",
          "2008-10-15",
          "2008-10-16",
          "2008-10-17",
          "2008-10-18",
          "2008-10-19",
          "2008-10-20",
          "2008-10-21",
          "2008-10-22",
          "2008-10-23",
          "2008-10-24",
          "2008-10-25",
          "2008-10-26",
          "2008-10-27",
          "2008-10-28",
          "2008-10-29",
          "2008-10-30",
          "2008-10-31",
          "2008-11-01",
          "2008-11-02",
          "2008-11-03",
          "2008-11-04",
          "2008-11-05",
          "2008-11-06",
          "2008-11-07",
          "2008-11-08",
          "2008-11-09",
          "2008-11-10",
          "2008-11-11",
          "2008-11-12",
          "2008-11-13",
          "2008-11-14",
          "2008-11-15",
          "2008-11-16",
          "2008-11-17",
          "2008-11-18",
          "2008-11-19",
          "2008-11-20",
          "2008-11-21",
          "2008-11-22",
          "2008-11-23",
          "2008-11-24",
          "2008-11-25",
          "2008-11-26",
          "2008-11-27",
          "2008-11-28",
          "2008-11-29",
          "2008-11-30",
          "2008-12-01",
          "2008-12-02",
          "2008-12-03",
          "2008-12-04",
          "2008-12-05",
          "2008-12-06",
          "2008-12-07",
          "2008-12-08",
          "2008-12-09",
          "2008-12-10",
          "2008-12-11",
          "2008-12-12",
          "2008-12-13",
          "2008-12-14",
          "2008-12-15",
          "2008-12-16",
          "2008-12-17",
          "2008-12-18",
          "2008-12-19",
          "2008-12-20",
          "2008-12-21",
          "2008-12-22",
          "2008-12-23",
          "2008-12-24",
          "2008-12-25",
          "2008-12-26",
          "2008-12-27",
          "2008-12-28",
          "2008-12-29",
          "2008-12-30",
          "2008-12-31"
         ],
         "xaxis": "x",
         "y": [
          2512,
          2175,
          2079,
          2188,
          2424,
          2491,
          2238,
          2191,
          2216,
          1953,
          2274,
          2497,
          2571,
          2224,
          2273,
          2297,
          2127,
          2375,
          2474,
          2592,
          2313,
          2364,
          2355,
          1589,
          2306,
          2610,
          2658,
          2352,
          2343,
          2318,
          2104,
          2228,
          2455,
          2535,
          2266,
          2326,
          2230,
          1960,
          2158,
          2156,
          2313,
          2461,
          2244,
          2304,
          2070,
          2257,
          2487,
          2560,
          2318,
          2236,
          2266,
          2072,
          2231,
          2510,
          2647,
          2257,
          2333,
          2278,
          2422,
          2329,
          2562,
          2365,
          2238,
          2165,
          2269,
          2086,
          2243,
          2491,
          2617,
          2213,
          2184,
          2242,
          2105,
          2330,
          2510,
          2540,
          2305,
          2256,
          2231,
          2046,
          2208,
          2493,
          2553,
          2206,
          2150,
          2156,
          723,
          1743,
          2405,
          2411,
          2123,
          2183,
          2158,
          737,
          1773,
          2042,
          2028,
          1906,
          2057,
          2300,
          2483,
          2080,
          1989,
          2006,
          1882,
          2017,
          2206,
          2405,
          2066,
          2052,
          2032,
          1902,
          2032,
          2307,
          2374,
          2080,
          2103,
          1341,
          1507,
          2047,
          1842,
          2043,
          2262,
          2308,
          1970,
          1932,
          2057,
          1815,
          1357,
          1693,
          2035,
          1927,
          1802,
          1954,
          2173,
          2229,
          1926,
          1907,
          1931,
          1843,
          1936,
          2204,
          2304,
          1972,
          2018,
          2001,
          1810,
          1982,
          2153,
          2308,
          1919,
          1902,
          1904,
          1771,
          672,
          1725,
          1721,
          1914,
          2121,
          866,
          1249,
          1862,
          1906,
          1862,
          1974,
          2124,
          2158,
          1899,
          1898,
          1846,
          1730,
          1869,
          1986,
          2090,
          1816,
          1842,
          1825,
          1697,
          1865,
          2031,
          2137,
          1897,
          1858,
          1826,
          1717,
          1941,
          2012,
          2029,
          1850,
          1940,
          1819,
          1641,
          1853,
          1998,
          2129,
          1890,
          1933,
          1865,
          1718,
          1789,
          1982,
          1961,
          1755,
          1778,
          1770,
          1616,
          1639,
          1863,
          1983,
          1804,
          1793,
          1801,
          1564,
          1758,
          2011,
          1972,
          1737,
          1717,
          1711,
          1617,
          1733,
          1929,
          1972,
          1767,
          1633,
          1774,
          1693,
          1717,
          1935,
          2007,
          1689,
          1730,
          1725,
          1543,
          1763,
          1831,
          1951,
          1680,
          1630,
          1674,
          1560,
          1711,
          2031,
          2100,
          1779,
          1706,
          1713,
          1489,
          1713,
          1913,
          1985,
          1687,
          1694,
          1647,
          1487,
          1719,
          1954,
          2187,
          2077,
          1621,
          1689,
          1536,
          1705,
          1787,
          1783,
          1586,
          1720,
          3159,
          2446,
          2315,
          1607,
          2408,
          2028,
          1749,
          1623,
          1620,
          1685,
          1870,
          1888,
          1585,
          1564,
          1569,
          1078,
          1970,
          2119,
          2137,
          1860,
          1754,
          1676,
          1590,
          1709,
          1892,
          1964,
          1645,
          1615,
          1587,
          1366,
          1623,
          1908,
          1891,
          1711,
          1598,
          1594,
          1459,
          1514,
          1820,
          1933,
          1651,
          569,
          1558,
          1640,
          1910,
          2033,
          2507,
          1983,
          1862,
          1761,
          1492,
          1877,
          2160,
          2119,
          1855,
          1846,
          1838,
          1736,
          1719,
          2139,
          2186,
          1811,
          1651,
          1769,
          1690,
          1863,
          2044,
          2092,
          1862,
          1871,
          1897,
          1723,
          1878,
          1995,
          1886,
          1802,
          1824,
          1810,
          1763,
          1888,
          2075,
          2084,
          1873,
          1894,
          1809
         ],
         "yaxis": "y"
        }
       ],
       "layout": {
        "annotations": [
         {
          "align": "right",
          "opacity": 0.7,
          "showarrow": false,
          "text": "3159",
          "x": "2008-10-08",
          "y": 3159,
          "yshift": 10
         },
         {
          "align": "right",
          "opacity": 0.7,
          "showarrow": false,
          "text": "569",
          "x": "2008-11-18",
          "y": 569,
          "yshift": -10
         }
        ],
        "autosize": true,
        "legend": {
         "tracegroupgap": 0
        },
        "margin": {
         "t": 60
        },
        "template": {
         "data": {
          "bar": [
           {
            "error_x": {
             "color": "#f2f5fa"
            },
            "error_y": {
             "color": "#f2f5fa"
            },
            "marker": {
             "line": {
              "color": "rgb(17,17,17)",
              "width": 0.5
             }
            },
            "type": "bar"
           }
          ],
          "barpolar": [
           {
            "marker": {
             "line": {
              "color": "rgb(17,17,17)",
              "width": 0.5
             }
            },
            "type": "barpolar"
           }
          ],
          "carpet": [
           {
            "aaxis": {
             "endlinecolor": "#A2B1C6",
             "gridcolor": "#506784",
             "linecolor": "#506784",
             "minorgridcolor": "#506784",
             "startlinecolor": "#A2B1C6"
            },
            "baxis": {
             "endlinecolor": "#A2B1C6",
             "gridcolor": "#506784",
             "linecolor": "#506784",
             "minorgridcolor": "#506784",
             "startlinecolor": "#A2B1C6"
            },
            "type": "carpet"
           }
          ],
          "choropleth": [
           {
            "colorbar": {
             "outlinewidth": 0,
             "ticks": ""
            },
            "type": "choropleth"
           }
          ],
          "contour": [
           {
            "colorbar": {
             "outlinewidth": 0,
             "ticks": ""
            },
            "colorscale": [
             [
              0,
              "#0d0887"
             ],
             [
              0.1111111111111111,
              "#46039f"
             ],
             [
              0.2222222222222222,
              "#7201a8"
             ],
             [
              0.3333333333333333,
              "#9c179e"
             ],
             [
              0.4444444444444444,
              "#bd3786"
             ],
             [
              0.5555555555555556,
              "#d8576b"
             ],
             [
              0.6666666666666666,
              "#ed7953"
             ],
             [
              0.7777777777777778,
              "#fb9f3a"
             ],
             [
              0.8888888888888888,
              "#fdca26"
             ],
             [
              1,
              "#f0f921"
             ]
            ],
            "type": "contour"
           }
          ],
          "contourcarpet": [
           {
            "colorbar": {
             "outlinewidth": 0,
             "ticks": ""
            },
            "type": "contourcarpet"
           }
          ],
          "heatmap": [
           {
            "colorbar": {
             "outlinewidth": 0,
             "ticks": ""
            },
            "colorscale": [
             [
              0,
              "#0d0887"
             ],
             [
              0.1111111111111111,
              "#46039f"
             ],
             [
              0.2222222222222222,
              "#7201a8"
             ],
             [
              0.3333333333333333,
              "#9c179e"
             ],
             [
              0.4444444444444444,
              "#bd3786"
             ],
             [
              0.5555555555555556,
              "#d8576b"
             ],
             [
              0.6666666666666666,
              "#ed7953"
             ],
             [
              0.7777777777777778,
              "#fb9f3a"
             ],
             [
              0.8888888888888888,
              "#fdca26"
             ],
             [
              1,
              "#f0f921"
             ]
            ],
            "type": "heatmap"
           }
          ],
          "heatmapgl": [
           {
            "colorbar": {
             "outlinewidth": 0,
             "ticks": ""
            },
            "colorscale": [
             [
              0,
              "#0d0887"
             ],
             [
              0.1111111111111111,
              "#46039f"
             ],
             [
              0.2222222222222222,
              "#7201a8"
             ],
             [
              0.3333333333333333,
              "#9c179e"
             ],
             [
              0.4444444444444444,
              "#bd3786"
             ],
             [
              0.5555555555555556,
              "#d8576b"
             ],
             [
              0.6666666666666666,
              "#ed7953"
             ],
             [
              0.7777777777777778,
              "#fb9f3a"
             ],
             [
              0.8888888888888888,
              "#fdca26"
             ],
             [
              1,
              "#f0f921"
             ]
            ],
            "type": "heatmapgl"
           }
          ],
          "histogram": [
           {
            "marker": {
             "colorbar": {
              "outlinewidth": 0,
              "ticks": ""
             }
            },
            "type": "histogram"
           }
          ],
          "histogram2d": [
           {
            "colorbar": {
             "outlinewidth": 0,
             "ticks": ""
            },
            "colorscale": [
             [
              0,
              "#0d0887"
             ],
             [
              0.1111111111111111,
              "#46039f"
             ],
             [
              0.2222222222222222,
              "#7201a8"
             ],
             [
              0.3333333333333333,
              "#9c179e"
             ],
             [
              0.4444444444444444,
              "#bd3786"
             ],
             [
              0.5555555555555556,
              "#d8576b"
             ],
             [
              0.6666666666666666,
              "#ed7953"
             ],
             [
              0.7777777777777778,
              "#fb9f3a"
             ],
             [
              0.8888888888888888,
              "#fdca26"
             ],
             [
              1,
              "#f0f921"
             ]
            ],
            "type": "histogram2d"
           }
          ],
          "histogram2dcontour": [
           {
            "colorbar": {
             "outlinewidth": 0,
             "ticks": ""
            },
            "colorscale": [
             [
              0,
              "#0d0887"
             ],
             [
              0.1111111111111111,
              "#46039f"
             ],
             [
              0.2222222222222222,
              "#7201a8"
             ],
             [
              0.3333333333333333,
              "#9c179e"
             ],
             [
              0.4444444444444444,
              "#bd3786"
             ],
             [
              0.5555555555555556,
              "#d8576b"
             ],
             [
              0.6666666666666666,
              "#ed7953"
             ],
             [
              0.7777777777777778,
              "#fb9f3a"
             ],
             [
              0.8888888888888888,
              "#fdca26"
             ],
             [
              1,
              "#f0f921"
             ]
            ],
            "type": "histogram2dcontour"
           }
          ],
          "mesh3d": [
           {
            "colorbar": {
             "outlinewidth": 0,
             "ticks": ""
            },
            "type": "mesh3d"
           }
          ],
          "parcoords": [
           {
            "line": {
             "colorbar": {
              "outlinewidth": 0,
              "ticks": ""
             }
            },
            "type": "parcoords"
           }
          ],
          "pie": [
           {
            "automargin": true,
            "type": "pie"
           }
          ],
          "scatter": [
           {
            "marker": {
             "line": {
              "color": "#283442"
             }
            },
            "type": "scatter"
           }
          ],
          "scatter3d": [
           {
            "line": {
             "colorbar": {
              "outlinewidth": 0,
              "ticks": ""
             }
            },
            "marker": {
             "colorbar": {
              "outlinewidth": 0,
              "ticks": ""
             }
            },
            "type": "scatter3d"
           }
          ],
          "scattercarpet": [
           {
            "marker": {
             "colorbar": {
              "outlinewidth": 0,
              "ticks": ""
             }
            },
            "type": "scattercarpet"
           }
          ],
          "scattergeo": [
           {
            "marker": {
             "colorbar": {
              "outlinewidth": 0,
              "ticks": ""
             }
            },
            "type": "scattergeo"
           }
          ],
          "scattergl": [
           {
            "marker": {
             "line": {
              "color": "#283442"
             }
            },
            "type": "scattergl"
           }
          ],
          "scattermapbox": [
           {
            "marker": {
             "colorbar": {
              "outlinewidth": 0,
              "ticks": ""
             }
            },
            "type": "scattermapbox"
           }
          ],
          "scatterpolar": [
           {
            "marker": {
             "colorbar": {
              "outlinewidth": 0,
              "ticks": ""
             }
            },
            "type": "scatterpolar"
           }
          ],
          "scatterpolargl": [
           {
            "marker": {
             "colorbar": {
              "outlinewidth": 0,
              "ticks": ""
             }
            },
            "type": "scatterpolargl"
           }
          ],
          "scatterternary": [
           {
            "marker": {
             "colorbar": {
              "outlinewidth": 0,
              "ticks": ""
             }
            },
            "type": "scatterternary"
           }
          ],
          "surface": [
           {
            "colorbar": {
             "outlinewidth": 0,
             "ticks": ""
            },
            "colorscale": [
             [
              0,
              "#0d0887"
             ],
             [
              0.1111111111111111,
              "#46039f"
             ],
             [
              0.2222222222222222,
              "#7201a8"
             ],
             [
              0.3333333333333333,
              "#9c179e"
             ],
             [
              0.4444444444444444,
              "#bd3786"
             ],
             [
              0.5555555555555556,
              "#d8576b"
             ],
             [
              0.6666666666666666,
              "#ed7953"
             ],
             [
              0.7777777777777778,
              "#fb9f3a"
             ],
             [
              0.8888888888888888,
              "#fdca26"
             ],
             [
              1,
              "#f0f921"
             ]
            ],
            "type": "surface"
           }
          ],
          "table": [
           {
            "cells": {
             "fill": {
              "color": "#506784"
             },
             "line": {
              "color": "rgb(17,17,17)"
             }
            },
            "header": {
             "fill": {
              "color": "#2a3f5f"
             },
             "line": {
              "color": "rgb(17,17,17)"
             }
            },
            "type": "table"
           }
          ]
         },
         "layout": {
          "annotationdefaults": {
           "arrowcolor": "#f2f5fa",
           "arrowhead": 0,
           "arrowwidth": 1
          },
          "autotypenumbers": "strict",
          "coloraxis": {
           "colorbar": {
            "outlinewidth": 0,
            "ticks": ""
           }
          },
          "colorscale": {
           "diverging": [
            [
             0,
             "#8e0152"
            ],
            [
             0.1,
             "#c51b7d"
            ],
            [
             0.2,
             "#de77ae"
            ],
            [
             0.3,
             "#f1b6da"
            ],
            [
             0.4,
             "#fde0ef"
            ],
            [
             0.5,
             "#f7f7f7"
            ],
            [
             0.6,
             "#e6f5d0"
            ],
            [
             0.7,
             "#b8e186"
            ],
            [
             0.8,
             "#7fbc41"
            ],
            [
             0.9,
             "#4d9221"
            ],
            [
             1,
             "#276419"
            ]
           ],
           "sequential": [
            [
             0,
             "#0d0887"
            ],
            [
             0.1111111111111111,
             "#46039f"
            ],
            [
             0.2222222222222222,
             "#7201a8"
            ],
            [
             0.3333333333333333,
             "#9c179e"
            ],
            [
             0.4444444444444444,
             "#bd3786"
            ],
            [
             0.5555555555555556,
             "#d8576b"
            ],
            [
             0.6666666666666666,
             "#ed7953"
            ],
            [
             0.7777777777777778,
             "#fb9f3a"
            ],
            [
             0.8888888888888888,
             "#fdca26"
            ],
            [
             1,
             "#f0f921"
            ]
           ],
           "sequentialminus": [
            [
             0,
             "#0d0887"
            ],
            [
             0.1111111111111111,
             "#46039f"
            ],
            [
             0.2222222222222222,
             "#7201a8"
            ],
            [
             0.3333333333333333,
             "#9c179e"
            ],
            [
             0.4444444444444444,
             "#bd3786"
            ],
            [
             0.5555555555555556,
             "#d8576b"
            ],
            [
             0.6666666666666666,
             "#ed7953"
            ],
            [
             0.7777777777777778,
             "#fb9f3a"
            ],
            [
             0.8888888888888888,
             "#fdca26"
            ],
            [
             1,
             "#f0f921"
            ]
           ]
          },
          "colorway": [
           "#636efa",
           "#EF553B",
           "#00cc96",
           "#ab63fa",
           "#FFA15A",
           "#19d3f3",
           "#FF6692",
           "#B6E880",
           "#FF97FF",
           "#FECB52"
          ],
          "font": {
           "color": "#f2f5fa"
          },
          "geo": {
           "bgcolor": "rgb(17,17,17)",
           "lakecolor": "rgb(17,17,17)",
           "landcolor": "rgb(17,17,17)",
           "showlakes": true,
           "showland": true,
           "subunitcolor": "#506784"
          },
          "hoverlabel": {
           "align": "left"
          },
          "hovermode": "closest",
          "mapbox": {
           "style": "dark"
          },
          "paper_bgcolor": "rgb(17,17,17)",
          "plot_bgcolor": "rgb(17,17,17)",
          "polar": {
           "angularaxis": {
            "gridcolor": "#506784",
            "linecolor": "#506784",
            "ticks": ""
           },
           "bgcolor": "rgb(17,17,17)",
           "radialaxis": {
            "gridcolor": "#506784",
            "linecolor": "#506784",
            "ticks": ""
           }
          },
          "scene": {
           "xaxis": {
            "backgroundcolor": "rgb(17,17,17)",
            "gridcolor": "#506784",
            "gridwidth": 2,
            "linecolor": "#506784",
            "showbackground": true,
            "ticks": "",
            "zerolinecolor": "#C8D4E3"
           },
           "yaxis": {
            "backgroundcolor": "rgb(17,17,17)",
            "gridcolor": "#506784",
            "gridwidth": 2,
            "linecolor": "#506784",
            "showbackground": true,
            "ticks": "",
            "zerolinecolor": "#C8D4E3"
           },
           "zaxis": {
            "backgroundcolor": "rgb(17,17,17)",
            "gridcolor": "#506784",
            "gridwidth": 2,
            "linecolor": "#506784",
            "showbackground": true,
            "ticks": "",
            "zerolinecolor": "#C8D4E3"
           }
          },
          "shapedefaults": {
           "line": {
            "color": "#f2f5fa"
           }
          },
          "sliderdefaults": {
           "bgcolor": "#C8D4E3",
           "bordercolor": "rgb(17,17,17)",
           "borderwidth": 1,
           "tickwidth": 0
          },
          "ternary": {
           "aaxis": {
            "gridcolor": "#506784",
            "linecolor": "#506784",
            "ticks": ""
           },
           "baxis": {
            "gridcolor": "#506784",
            "linecolor": "#506784",
            "ticks": ""
           },
           "bgcolor": "rgb(17,17,17)",
           "caxis": {
            "gridcolor": "#506784",
            "linecolor": "#506784",
            "ticks": ""
           }
          },
          "title": {
           "x": 0.05
          },
          "updatemenudefaults": {
           "bgcolor": "#506784",
           "borderwidth": 0
          },
          "xaxis": {
           "automargin": true,
           "gridcolor": "#283442",
           "linecolor": "#506784",
           "ticks": "",
           "title": {
            "standoff": 15
           },
           "zerolinecolor": "#283442",
           "zerolinewidth": 2
          },
          "yaxis": {
           "automargin": true,
           "gridcolor": "#283442",
           "linecolor": "#506784",
           "ticks": "",
           "title": {
            "standoff": 15
           },
           "zerolinecolor": "#283442",
           "zerolinewidth": 2
          }
         }
        },
        "xaxis": {
         "anchor": "y",
         "autorange": true,
         "domain": [
          0,
          1
         ],
         "range": [
          "2008-01-01",
          "2008-12-31"
         ],
         "title": {
          "text": "date"
         },
         "type": "date"
        },
        "yaxis": {
         "anchor": "x",
         "autorange": true,
         "domain": [
          0,
          1
         ],
         "range": [
          382.6346863468634,
          3345.3653136531366
         ],
         "title": {
          "text": "char"
         },
         "type": "linear"
        }
       }
      },
      "image/png": "[encoded data removed]",
      "text/html": [
       "<div>                            <div id=\"08a83bc6-5de4-47f2-b682-30f35278b59b\" class=\"plotly-graph-div\" style=\"height:525px; width:100%;\"></div>            <script type=\"text/javascript\">                require([\"plotly\"], function(Plotly) {                    window.PLOTLYENV=window.PLOTLYENV || {};                                    if (document.getElementById(\"08a83bc6-5de4-47f2-b682-30f35278b59b\")) {                    Plotly.newPlot(                        \"08a83bc6-5de4-47f2-b682-30f35278b59b\",                        [{\"hovertemplate\": \"date=%{x}<br>char=%{y}<extra></extra>\", \"legendgroup\": \"\", \"line\": {\"color\": \"#636efa\", \"dash\": \"solid\"}, \"mode\": \"lines\", \"name\": \"\", \"orientation\": \"v\", \"showlegend\": false, \"type\": \"scatter\", \"x\": [\"2008-01-01\", \"2008-01-02\", \"2008-01-03\", \"2008-01-04\", \"2008-01-05\", \"2008-01-06\", \"2008-01-07\", \"2008-01-08\", \"2008-01-09\", \"2008-01-10\", \"2008-01-11\", \"2008-01-12\", \"2008-01-13\", \"2008-01-14\", \"2008-01-15\", \"2008-01-16\", \"2008-01-17\", \"2008-01-18\", \"2008-01-19\", \"2008-01-20\", \"2008-01-21\", \"2008-01-22\", \"2008-01-23\", \"2008-01-24\", \"2008-01-25\", \"2008-01-26\", \"2008-01-27\", \"2008-01-28\", \"2008-01-29\", \"2008-01-30\", \"2008-01-31\", \"2008-02-01\", \"2008-02-02\", \"2008-02-03\", \"2008-02-04\", \"2008-02-05\", \"2008-02-06\", \"2008-02-07\", \"2008-02-08\", \"2008-02-09\", \"2008-02-10\", \"2008-02-11\", \"2008-02-12\", \"2008-02-13\", \"2008-02-14\", \"2008-02-15\", \"2008-02-16\", \"2008-02-17\", \"2008-02-18\", \"2008-02-19\", \"2008-02-20\", \"2008-02-21\", \"2008-02-22\", \"2008-02-23\", \"2008-02-24\", \"2008-02-25\", \"2008-02-26\", \"2008-02-27\", \"2008-02-28\", \"2008-02-29\", \"2008-03-01\", \"2008-03-02\", \"2008-03-03\", \"2008-03-04\", \"2008-03-05\", \"2008-03-06\", \"2008-03-07\", \"2008-03-08\", \"2008-03-09\", \"2008-03-10\", \"2008-03-11\", \"2008-03-12\", \"2008-03-13\", \"2008-03-14\", \"2008-03-15\", \"2008-03-16\", \"2008-03-17\", \"2008-03-18\", \"2008-03-19\", \"2008-03-20\", \"2008-03-21\", \"2008-03-22\", \"2008-03-23\", \"2008-03-24\", \"2008-03-25\", \"2008-03-26\", \"2008-03-27\", \"2008-03-28\", \"2008-03-29\", \"2008-03-30\", \"2008-03-31\", \"2008-04-01\", \"2008-04-02\", \"2008-04-03\", \"2008-04-07\", \"2008-04-08\", \"2008-04-09\", \"2008-04-10\", \"2008-04-11\", \"2008-04-12\", \"2008-04-13\", \"2008-04-14\", \"2008-04-15\", \"2008-04-16\", \"2008-04-17\", \"2008-04-18\", \"2008-04-19\", \"2008-04-20\", \"2008-04-21\", \"2008-04-22\", \"2008-04-23\", \"2008-04-24\", \"2008-04-25\", \"2008-04-26\", \"2008-04-27\", \"2008-04-28\", \"2008-04-29\", \"2008-04-30\", \"2008-05-06\", \"2008-05-07\", \"2008-05-08\", \"2008-05-09\", \"2008-05-10\", \"2008-05-11\", \"2008-05-12\", \"2008-05-13\", \"2008-05-14\", \"2008-05-15\", \"2008-05-16\", \"2008-05-19\", \"2008-05-20\", \"2008-05-21\", \"2008-05-22\", \"2008-05-23\", \"2008-05-24\", \"2008-05-25\", \"2008-05-26\", \"2008-05-27\", \"2008-05-28\", \"2008-05-29\", \"2008-05-30\", \"2008-05-31\", \"2008-06-01\", \"2008-06-02\", \"2008-06-03\", \"2008-06-04\", \"2008-06-05\", \"2008-06-06\", \"2008-06-07\", \"2008-06-08\", \"2008-06-09\", \"2008-06-10\", \"2008-06-11\", \"2008-06-12\", \"2008-06-13\", \"2008-06-18\", \"2008-06-19\", \"2008-06-20\", \"2008-06-21\", \"2008-06-22\", \"2008-06-23\", \"2008-06-24\", \"2008-06-25\", \"2008-06-26\", \"2008-06-27\", \"2008-06-28\", \"2008-06-29\", \"2008-06-30\", \"2008-07-01\", \"2008-07-02\", \"2008-07-03\", \"2008-07-04\", \"2008-07-05\", \"2008-07-06\", \"2008-07-07\", \"2008-07-08\", \"2008-07-09\", \"2008-07-10\", \"2008-07-11\", \"2008-07-12\", \"2008-07-13\", \"2008-07-14\", \"2008-07-15\", \"2008-07-16\", \"2008-07-17\", \"2008-07-18\", \"2008-07-19\", \"2008-07-20\", \"2008-07-21\", \"2008-07-22\", \"2008-07-23\", \"2008-07-24\", \"2008-07-25\", \"2008-07-26\", \"2008-07-27\", \"2008-07-28\", \"2008-07-29\", \"2008-07-30\", \"2008-07-31\", \"2008-08-01\", \"2008-08-02\", \"2008-08-03\", \"2008-08-04\", \"2008-08-05\", \"2008-08-06\", \"2008-08-07\", \"2008-08-08\", \"2008-08-09\", \"2008-08-10\", \"2008-08-11\", \"2008-08-12\", \"2008-08-13\", \"2008-08-14\", \"2008-08-15\", \"2008-08-16\", \"2008-08-17\", \"2008-08-18\", \"2008-08-19\", \"2008-08-20\", \"2008-08-21\", \"2008-08-22\", \"2008-08-23\", \"2008-08-24\", \"2008-08-25\", \"2008-08-26\", \"2008-08-27\", \"2008-08-28\", \"2008-08-29\", \"2008-08-30\", \"2008-08-31\", \"2008-09-01\", \"2008-09-02\", \"2008-09-03\", \"2008-09-04\", \"2008-09-05\", \"2008-09-06\", \"2008-09-07\", \"2008-09-08\", \"2008-09-09\", \"2008-09-10\", \"2008-09-11\", \"2008-09-12\", \"2008-09-13\", \"2008-09-14\", \"2008-09-15\", \"2008-09-16\", \"2008-09-17\", \"2008-09-18\", \"2008-09-19\", \"2008-09-20\", \"2008-09-21\", \"2008-09-22\", \"2008-09-23\", \"2008-09-24\", \"2008-09-25\", \"2008-09-26\", \"2008-09-27\", \"2008-09-28\", \"2008-09-29\", \"2008-09-30\", \"2008-10-01\", \"2008-10-02\", \"2008-10-03\", \"2008-10-04\", \"2008-10-05\", \"2008-10-06\", \"2008-10-07\", \"2008-10-08\", \"2008-10-09\", \"2008-10-10\", \"2008-10-11\", \"2008-10-12\", \"2008-10-13\", \"2008-10-14\", \"2008-10-15\", \"2008-10-16\", \"2008-10-17\", \"2008-10-18\", \"2008-10-19\", \"2008-10-20\", \"2008-10-21\", \"2008-10-22\", \"2008-10-23\", \"2008-10-24\", \"2008-10-25\", \"2008-10-26\", \"2008-10-27\", \"2008-10-28\", \"2008-10-29\", \"2008-10-30\", \"2008-10-31\", \"2008-11-01\", \"2008-11-02\", \"2008-11-03\", \"2008-11-04\", \"2008-11-05\", \"2008-11-06\", \"2008-11-07\", \"2008-11-08\", \"2008-11-09\", \"2008-11-10\", \"2008-11-11\", \"2008-11-12\", \"2008-11-13\", \"2008-11-14\", \"2008-11-15\", \"2008-11-16\", \"2008-11-17\", \"2008-11-18\", \"2008-11-19\", \"2008-11-20\", \"2008-11-21\", \"2008-11-22\", \"2008-11-23\", \"2008-11-24\", \"2008-11-25\", \"2008-11-26\", \"2008-11-27\", \"2008-11-28\", \"2008-11-29\", \"2008-11-30\", \"2008-12-01\", \"2008-12-02\", \"2008-12-03\", \"2008-12-04\", \"2008-12-05\", \"2008-12-06\", \"2008-12-07\", \"2008-12-08\", \"2008-12-09\", \"2008-12-10\", \"2008-12-11\", \"2008-12-12\", \"2008-12-13\", \"2008-12-14\", \"2008-12-15\", \"2008-12-16\", \"2008-12-17\", \"2008-12-18\", \"2008-12-19\", \"2008-12-20\", \"2008-12-21\", \"2008-12-22\", \"2008-12-23\", \"2008-12-24\", \"2008-12-25\", \"2008-12-26\", \"2008-12-27\", \"2008-12-28\", \"2008-12-29\", \"2008-12-30\", \"2008-12-31\"], \"xaxis\": \"x\", \"y\": [2512, 2175, 2079, 2188, 2424, 2491, 2238, 2191, 2216, 1953, 2274, 2497, 2571, 2224, 2273, 2297, 2127, 2375, 2474, 2592, 2313, 2364, 2355, 1589, 2306, 2610, 2658, 2352, 2343, 2318, 2104, 2228, 2455, 2535, 2266, 2326, 2230, 1960, 2158, 2156, 2313, 2461, 2244, 2304, 2070, 2257, 2487, 2560, 2318, 2236, 2266, 2072, 2231, 2510, 2647, 2257, 2333, 2278, 2422, 2329, 2562, 2365, 2238, 2165, 2269, 2086, 2243, 2491, 2617, 2213, 2184, 2242, 2105, 2330, 2510, 2540, 2305, 2256, 2231, 2046, 2208, 2493, 2553, 2206, 2150, 2156, 723, 1743, 2405, 2411, 2123, 2183, 2158, 737, 1773, 2042, 2028, 1906, 2057, 2300, 2483, 2080, 1989, 2006, 1882, 2017, 2206, 2405, 2066, 2052, 2032, 1902, 2032, 2307, 2374, 2080, 2103, 1341, 1507, 2047, 1842, 2043, 2262, 2308, 1970, 1932, 2057, 1815, 1357, 1693, 2035, 1927, 1802, 1954, 2173, 2229, 1926, 1907, 1931, 1843, 1936, 2204, 2304, 1972, 2018, 2001, 1810, 1982, 2153, 2308, 1919, 1902, 1904, 1771, 672, 1725, 1721, 1914, 2121, 866, 1249, 1862, 1906, 1862, 1974, 2124, 2158, 1899, 1898, 1846, 1730, 1869, 1986, 2090, 1816, 1842, 1825, 1697, 1865, 2031, 2137, 1897, 1858, 1826, 1717, 1941, 2012, 2029, 1850, 1940, 1819, 1641, 1853, 1998, 2129, 1890, 1933, 1865, 1718, 1789, 1982, 1961, 1755, 1778, 1770, 1616, 1639, 1863, 1983, 1804, 1793, 1801, 1564, 1758, 2011, 1972, 1737, 1717, 1711, 1617, 1733, 1929, 1972, 1767, 1633, 1774, 1693, 1717, 1935, 2007, 1689, 1730, 1725, 1543, 1763, 1831, 1951, 1680, 1630, 1674, 1560, 1711, 2031, 2100, 1779, 1706, 1713, 1489, 1713, 1913, 1985, 1687, 1694, 1647, 1487, 1719, 1954, 2187, 2077, 1621, 1689, 1536, 1705, 1787, 1783, 1586, 1720, 3159, 2446, 2315, 1607, 2408, 2028, 1749, 1623, 1620, 1685, 1870, 1888, 1585, 1564, 1569, 1078, 1970, 2119, 2137, 1860, 1754, 1676, 1590, 1709, 1892, 1964, 1645, 1615, 1587, 1366, 1623, 1908, 1891, 1711, 1598, 1594, 1459, 1514, 1820, 1933, 1651, 569, 1558, 1640, 1910, 2033, 2507, 1983, 1862, 1761, 1492, 1877, 2160, 2119, 1855, 1846, 1838, 1736, 1719, 2139, 2186, 1811, 1651, 1769, 1690, 1863, 2044, 2092, 1862, 1871, 1897, 1723, 1878, 1995, 1886, 1802, 1824, 1810, 1763, 1888, 2075, 2084, 1873, 1894, 1809], \"yaxis\": \"y\"}],                        {\"annotations\": [{\"align\": \"right\", \"opacity\": 0.7, \"showarrow\": false, \"text\": \"3159\", \"x\": \"2008-10-08\", \"y\": 3159, \"yshift\": 10}, {\"align\": \"right\", \"opacity\": 0.7, \"showarrow\": false, \"text\": \"569\", \"x\": \"2008-11-18\", \"y\": 569, \"yshift\": -10}], \"legend\": {\"tracegroupgap\": 0}, \"margin\": {\"t\": 60}, \"template\": {\"data\": {\"bar\": [{\"error_x\": {\"color\": \"#f2f5fa\"}, \"error_y\": {\"color\": \"#f2f5fa\"}, \"marker\": {\"line\": {\"color\": \"rgb(17,17,17)\", \"width\": 0.5}}, \"type\": \"bar\"}], \"barpolar\": [{\"marker\": {\"line\": {\"color\": \"rgb(17,17,17)\", \"width\": 0.5}}, \"type\": \"barpolar\"}], \"carpet\": [{\"aaxis\": {\"endlinecolor\": \"#A2B1C6\", \"gridcolor\": \"#506784\", \"linecolor\": \"#506784\", \"minorgridcolor\": \"#506784\", \"startlinecolor\": \"#A2B1C6\"}, \"baxis\": {\"endlinecolor\": \"#A2B1C6\", \"gridcolor\": \"#506784\", \"linecolor\": \"#506784\", \"minorgridcolor\": \"#506784\", \"startlinecolor\": \"#A2B1C6\"}, \"type\": \"carpet\"}], \"choropleth\": [{\"colorbar\": {\"outlinewidth\": 0, \"ticks\": \"\"}, \"type\": \"choropleth\"}], \"contour\": [{\"colorbar\": {\"outlinewidth\": 0, \"ticks\": \"\"}, \"colorscale\": [[0.0, \"#0d0887\"], [0.1111111111111111, \"#46039f\"], [0.2222222222222222, \"#7201a8\"], [0.3333333333333333, \"#9c179e\"], [0.4444444444444444, \"#bd3786\"], [0.5555555555555556, \"#d8576b\"], [0.6666666666666666, \"#ed7953\"], [0.7777777777777778, \"#fb9f3a\"], [0.8888888888888888, \"#fdca26\"], [1.0, \"#f0f921\"]], \"type\": \"contour\"}], \"contourcarpet\": [{\"colorbar\": {\"outlinewidth\": 0, \"ticks\": \"\"}, \"type\": \"contourcarpet\"}], \"heatmap\": [{\"colorbar\": {\"outlinewidth\": 0, \"ticks\": \"\"}, \"colorscale\": [[0.0, \"#0d0887\"], [0.1111111111111111, \"#46039f\"], [0.2222222222222222, \"#7201a8\"], [0.3333333333333333, \"#9c179e\"], [0.4444444444444444, \"#bd3786\"], [0.5555555555555556, \"#d8576b\"], [0.6666666666666666, \"#ed7953\"], [0.7777777777777778, \"#fb9f3a\"], [0.8888888888888888, \"#fdca26\"], [1.0, \"#f0f921\"]], \"type\": \"heatmap\"}], \"heatmapgl\": [{\"colorbar\": {\"outlinewidth\": 0, \"ticks\": \"\"}, \"colorscale\": [[0.0, \"#0d0887\"], [0.1111111111111111, \"#46039f\"], [0.2222222222222222, \"#7201a8\"], [0.3333333333333333, \"#9c179e\"], [0.4444444444444444, \"#bd3786\"], [0.5555555555555556, \"#d8576b\"], [0.6666666666666666, \"#ed7953\"], [0.7777777777777778, \"#fb9f3a\"], [0.8888888888888888, \"#fdca26\"], [1.0, \"#f0f921\"]], \"type\": \"heatmapgl\"}], \"histogram\": [{\"marker\": {\"colorbar\": {\"outlinewidth\": 0, \"ticks\": \"\"}}, \"type\": \"histogram\"}], \"histogram2d\": [{\"colorbar\": {\"outlinewidth\": 0, \"ticks\": \"\"}, \"colorscale\": [[0.0, \"#0d0887\"], [0.1111111111111111, \"#46039f\"], [0.2222222222222222, \"#7201a8\"], [0.3333333333333333, \"#9c179e\"], [0.4444444444444444, \"#bd3786\"], [0.5555555555555556, \"#d8576b\"], [0.6666666666666666, \"#ed7953\"], [0.7777777777777778, \"#fb9f3a\"], [0.8888888888888888, \"#fdca26\"], [1.0, \"#f0f921\"]], \"type\": \"histogram2d\"}], \"histogram2dcontour\": [{\"colorbar\": {\"outlinewidth\": 0, \"ticks\": \"\"}, \"colorscale\": [[0.0, \"#0d0887\"], [0.1111111111111111, \"#46039f\"], [0.2222222222222222, \"#7201a8\"], [0.3333333333333333, \"#9c179e\"], [0.4444444444444444, \"#bd3786\"], [0.5555555555555556, \"#d8576b\"], [0.6666666666666666, \"#ed7953\"], [0.7777777777777778, \"#fb9f3a\"], [0.8888888888888888, \"#fdca26\"], [1.0, \"#f0f921\"]], \"type\": \"histogram2dcontour\"}], \"mesh3d\": [{\"colorbar\": {\"outlinewidth\": 0, \"ticks\": \"\"}, \"type\": \"mesh3d\"}], \"parcoords\": [{\"line\": {\"colorbar\": {\"outlinewidth\": 0, \"ticks\": \"\"}}, \"type\": \"parcoords\"}], \"pie\": [{\"automargin\": true, \"type\": \"pie\"}], \"scatter\": [{\"marker\": {\"line\": {\"color\": \"#283442\"}}, \"type\": \"scatter\"}], \"scatter3d\": [{\"line\": {\"colorbar\": {\"outlinewidth\": 0, \"ticks\": \"\"}}, \"marker\": {\"colorbar\": {\"outlinewidth\": 0, \"ticks\": \"\"}}, \"type\": \"scatter3d\"}], \"scattercarpet\": [{\"marker\": {\"colorbar\": {\"outlinewidth\": 0, \"ticks\": \"\"}}, \"type\": \"scattercarpet\"}], \"scattergeo\": [{\"marker\": {\"colorbar\": {\"outlinewidth\": 0, \"ticks\": \"\"}}, \"type\": \"scattergeo\"}], \"scattergl\": [{\"marker\": {\"line\": {\"color\": \"#283442\"}}, \"type\": \"scattergl\"}], \"scattermapbox\": [{\"marker\": {\"colorbar\": {\"outlinewidth\": 0, \"ticks\": \"\"}}, \"type\": \"scattermapbox\"}], \"scatterpolar\": [{\"marker\": {\"colorbar\": {\"outlinewidth\": 0, \"ticks\": \"\"}}, \"type\": \"scatterpolar\"}], \"scatterpolargl\": [{\"marker\": {\"colorbar\": {\"outlinewidth\": 0, \"ticks\": \"\"}}, \"type\": \"scatterpolargl\"}], \"scatterternary\": [{\"marker\": {\"colorbar\": {\"outlinewidth\": 0, \"ticks\": \"\"}}, \"type\": \"scatterternary\"}], \"surface\": [{\"colorbar\": {\"outlinewidth\": 0, \"ticks\": \"\"}, \"colorscale\": [[0.0, \"#0d0887\"], [0.1111111111111111, \"#46039f\"], [0.2222222222222222, \"#7201a8\"], [0.3333333333333333, \"#9c179e\"], [0.4444444444444444, \"#bd3786\"], [0.5555555555555556, \"#d8576b\"], [0.6666666666666666, \"#ed7953\"], [0.7777777777777778, \"#fb9f3a\"], [0.8888888888888888, \"#fdca26\"], [1.0, \"#f0f921\"]], \"type\": \"surface\"}], \"table\": [{\"cells\": {\"fill\": {\"color\": \"#506784\"}, \"line\": {\"color\": \"rgb(17,17,17)\"}}, \"header\": {\"fill\": {\"color\": \"#2a3f5f\"}, \"line\": {\"color\": \"rgb(17,17,17)\"}}, \"type\": \"table\"}]}, \"layout\": {\"annotationdefaults\": {\"arrowcolor\": \"#f2f5fa\", \"arrowhead\": 0, \"arrowwidth\": 1}, \"autotypenumbers\": \"strict\", \"coloraxis\": {\"colorbar\": {\"outlinewidth\": 0, \"ticks\": \"\"}}, \"colorscale\": {\"diverging\": [[0, \"#8e0152\"], [0.1, \"#c51b7d\"], [0.2, \"#de77ae\"], [0.3, \"#f1b6da\"], [0.4, \"#fde0ef\"], [0.5, \"#f7f7f7\"], [0.6, \"#e6f5d0\"], [0.7, \"#b8e186\"], [0.8, \"#7fbc41\"], [0.9, \"#4d9221\"], [1, \"#276419\"]], \"sequential\": [[0.0, \"#0d0887\"], [0.1111111111111111, \"#46039f\"], [0.2222222222222222, \"#7201a8\"], [0.3333333333333333, \"#9c179e\"], [0.4444444444444444, \"#bd3786\"], [0.5555555555555556, \"#d8576b\"], [0.6666666666666666, \"#ed7953\"], [0.7777777777777778, \"#fb9f3a\"], [0.8888888888888888, \"#fdca26\"], [1.0, \"#f0f921\"]], \"sequentialminus\": [[0.0, \"#0d0887\"], [0.1111111111111111, \"#46039f\"], [0.2222222222222222, \"#7201a8\"], [0.3333333333333333, \"#9c179e\"], [0.4444444444444444, \"#bd3786\"], [0.5555555555555556, \"#d8576b\"], [0.6666666666666666, \"#ed7953\"], [0.7777777777777778, \"#fb9f3a\"], [0.8888888888888888, \"#fdca26\"], [1.0, \"#f0f921\"]]}, \"colorway\": [\"#636efa\", \"#EF553B\", \"#00cc96\", \"#ab63fa\", \"#FFA15A\", \"#19d3f3\", \"#FF6692\", \"#B6E880\", \"#FF97FF\", \"#FECB52\"], \"font\": {\"color\": \"#f2f5fa\"}, \"geo\": {\"bgcolor\": \"rgb(17,17,17)\", \"lakecolor\": \"rgb(17,17,17)\", \"landcolor\": \"rgb(17,17,17)\", \"showlakes\": true, \"showland\": true, \"subunitcolor\": \"#506784\"}, \"hoverlabel\": {\"align\": \"left\"}, \"hovermode\": \"closest\", \"mapbox\": {\"style\": \"dark\"}, \"paper_bgcolor\": \"rgb(17,17,17)\", \"plot_bgcolor\": \"rgb(17,17,17)\", \"polar\": {\"angularaxis\": {\"gridcolor\": \"#506784\", \"linecolor\": \"#506784\", \"ticks\": \"\"}, \"bgcolor\": \"rgb(17,17,17)\", \"radialaxis\": {\"gridcolor\": \"#506784\", \"linecolor\": \"#506784\", \"ticks\": \"\"}}, \"scene\": {\"xaxis\": {\"backgroundcolor\": \"rgb(17,17,17)\", \"gridcolor\": \"#506784\", \"gridwidth\": 2, \"linecolor\": \"#506784\", \"showbackground\": true, \"ticks\": \"\", \"zerolinecolor\": \"#C8D4E3\"}, \"yaxis\": {\"backgroundcolor\": \"rgb(17,17,17)\", \"gridcolor\": \"#506784\", \"gridwidth\": 2, \"linecolor\": \"#506784\", \"showbackground\": true, \"ticks\": \"\", \"zerolinecolor\": \"#C8D4E3\"}, \"zaxis\": {\"backgroundcolor\": \"rgb(17,17,17)\", \"gridcolor\": \"#506784\", \"gridwidth\": 2, \"linecolor\": \"#506784\", \"showbackground\": true, \"ticks\": \"\", \"zerolinecolor\": \"#C8D4E3\"}}, \"shapedefaults\": {\"line\": {\"color\": \"#f2f5fa\"}}, \"sliderdefaults\": {\"bgcolor\": \"#C8D4E3\", \"bordercolor\": \"rgb(17,17,17)\", \"borderwidth\": 1, \"tickwidth\": 0}, \"ternary\": {\"aaxis\": {\"gridcolor\": \"#506784\", \"linecolor\": \"#506784\", \"ticks\": \"\"}, \"baxis\": {\"gridcolor\": \"#506784\", \"linecolor\": \"#506784\", \"ticks\": \"\"}, \"bgcolor\": \"rgb(17,17,17)\", \"caxis\": {\"gridcolor\": \"#506784\", \"linecolor\": \"#506784\", \"ticks\": \"\"}}, \"title\": {\"x\": 0.05}, \"updatemenudefaults\": {\"bgcolor\": \"#506784\", \"borderwidth\": 0}, \"xaxis\": {\"automargin\": true, \"gridcolor\": \"#283442\", \"linecolor\": \"#506784\", \"ticks\": \"\", \"title\": {\"standoff\": 15}, \"zerolinecolor\": \"#283442\", \"zerolinewidth\": 2}, \"yaxis\": {\"automargin\": true, \"gridcolor\": \"#283442\", \"linecolor\": \"#506784\", \"ticks\": \"\", \"title\": {\"standoff\": 15}, \"zerolinecolor\": \"#283442\", \"zerolinewidth\": 2}}}, \"xaxis\": {\"anchor\": \"y\", \"domain\": [0.0, 1.0], \"title\": {\"text\": \"date\"}}, \"yaxis\": {\"anchor\": \"x\", \"domain\": [0.0, 1.0], \"title\": {\"text\": \"char\"}}},                        {\"responsive\": true}                    ).then(function(){\n",
       "                            \n",
       "var gd = document.getElementById('08a83bc6-5de4-47f2-b682-30f35278b59b');\n",
       "var x = new MutationObserver(function (mutations, observer) {{\n",
       "        var display = window.getComputedStyle(gd).display;\n",
       "        if (!display || display === 'none') {{\n",
       "            console.log([gd, 'removed!']);\n",
       "            Plotly.purge(gd);\n",
       "            observer.disconnect();\n",
       "        }}\n",
       "}});\n",
       "\n",
       "// Listen for the removal of the full notebook cells\n",
       "var notebookContainer = gd.closest('#notebook-container');\n",
       "if (notebookContainer) {{\n",
       "    x.observe(notebookContainer, {childList: true});\n",
       "}}\n",
       "\n",
       "// Listen for the clearing of the current output cell\n",
       "var outputEl = gd.closest('.output');\n",
       "if (outputEl) {{\n",
       "    x.observe(outputEl, {childList: true});\n",
       "}}\n",
       "\n",
       "                        })                };                });            </script>        </div>"
      ]
     },
     "metadata": {},
     "output_type": "display_data"
    },
    {
     "data": {
      "text/plain": [
       "<Figure size 720x288 with 0 Axes>"
      ]
     },
     "metadata": {},
     "output_type": "display_data"
    }
   ],
   "source": [
    "plt.figure(figsize = (10,4))\n",
    "fig = px.line(dau, x='date', y='char', template='plotly_dark')\n",
    "fig.add_annotation(showarrow=False,\n",
    "                   align = 'right',\n",
    "                   x=dau.date[dau.max(axis = 1).idxmax()],\n",
    "                   y=dau.max().char,\n",
    "                   text=str(dau.max().char),\n",
    "                   yshift=10,\n",
    "                   opacity=0.7)\n",
    "fig.add_annotation(showarrow=False,\n",
    "                   align = 'right',\n",
    "                   x=dau.date[dau.min(axis = 1).idxmin()],\n",
    "                   y=dau.min().char,\n",
    "                   text=str(dau.min().char),\n",
    "                   yshift=-10,\n",
    "                   opacity=0.7)\n",
    "fig.show()\n",
    "fig.write_image(\"img/dau.png\")"
   ]
  },
  {
   "cell_type": "code",
   "execution_count": 39,
   "metadata": {},
   "outputs": [],
   "source": [
    "for i in range(len(mau)):\n",
    "    mau.loc[i, 'time'] = str(mau.loc[i, 'year']) + '-' + str(mau.loc[i, 'month'])"
   ]
  },
  {
   "cell_type": "code",
   "execution_count": 52,
   "metadata": {},
   "outputs": [
    {
     "data": {
      "application/vnd.plotly.v1+json": {
       "config": {
        "plotlyServerURL": "https://plot.ly"
       },
       "data": [
        {
         "hovertemplate": "month=%{x}<br>char=%{y}<extra></extra>",
         "legendgroup": "",
         "line": {
          "color": "#636efa",
          "dash": "solid"
         },
         "mode": "lines",
         "name": "",
         "orientation": "v",
         "showlegend": false,
         "type": "scatter",
         "x": [
          1,
          2,
          3,
          4,
          5,
          6,
          7,
          8,
          9,
          10,
          11,
          12
         ],
         "xaxis": "x",
         "y": [
          8600,
          8535,
          8429,
          7310,
          6677,
          6918,
          7714,
          7425,
          7056,
          12535,
          9660,
          8113
         ],
         "yaxis": "y"
        }
       ],
       "layout": {
        "annotations": [
         {
          "align": "right",
          "opacity": 0.7,
          "showarrow": false,
          "text": "12535",
          "x": 10,
          "y": 12535,
          "yshift": 10
         },
         {
          "align": "right",
          "opacity": 0.7,
          "showarrow": false,
          "text": "6677",
          "x": 1,
          "y": 6677,
          "yshift": 10
         }
        ],
        "autosize": true,
        "legend": {
         "tracegroupgap": 0
        },
        "margin": {
         "t": 60
        },
        "template": {
         "data": {
          "bar": [
           {
            "error_x": {
             "color": "#f2f5fa"
            },
            "error_y": {
             "color": "#f2f5fa"
            },
            "marker": {
             "line": {
              "color": "rgb(17,17,17)",
              "width": 0.5
             }
            },
            "type": "bar"
           }
          ],
          "barpolar": [
           {
            "marker": {
             "line": {
              "color": "rgb(17,17,17)",
              "width": 0.5
             }
            },
            "type": "barpolar"
           }
          ],
          "carpet": [
           {
            "aaxis": {
             "endlinecolor": "#A2B1C6",
             "gridcolor": "#506784",
             "linecolor": "#506784",
             "minorgridcolor": "#506784",
             "startlinecolor": "#A2B1C6"
            },
            "baxis": {
             "endlinecolor": "#A2B1C6",
             "gridcolor": "#506784",
             "linecolor": "#506784",
             "minorgridcolor": "#506784",
             "startlinecolor": "#A2B1C6"
            },
            "type": "carpet"
           }
          ],
          "choropleth": [
           {
            "colorbar": {
             "outlinewidth": 0,
             "ticks": ""
            },
            "type": "choropleth"
           }
          ],
          "contour": [
           {
            "colorbar": {
             "outlinewidth": 0,
             "ticks": ""
            },
            "colorscale": [
             [
              0,
              "#0d0887"
             ],
             [
              0.1111111111111111,
              "#46039f"
             ],
             [
              0.2222222222222222,
              "#7201a8"
             ],
             [
              0.3333333333333333,
              "#9c179e"
             ],
             [
              0.4444444444444444,
              "#bd3786"
             ],
             [
              0.5555555555555556,
              "#d8576b"
             ],
             [
              0.6666666666666666,
              "#ed7953"
             ],
             [
              0.7777777777777778,
              "#fb9f3a"
             ],
             [
              0.8888888888888888,
              "#fdca26"
             ],
             [
              1,
              "#f0f921"
             ]
            ],
            "type": "contour"
           }
          ],
          "contourcarpet": [
           {
            "colorbar": {
             "outlinewidth": 0,
             "ticks": ""
            },
            "type": "contourcarpet"
           }
          ],
          "heatmap": [
           {
            "colorbar": {
             "outlinewidth": 0,
             "ticks": ""
            },
            "colorscale": [
             [
              0,
              "#0d0887"
             ],
             [
              0.1111111111111111,
              "#46039f"
             ],
             [
              0.2222222222222222,
              "#7201a8"
             ],
             [
              0.3333333333333333,
              "#9c179e"
             ],
             [
              0.4444444444444444,
              "#bd3786"
             ],
             [
              0.5555555555555556,
              "#d8576b"
             ],
             [
              0.6666666666666666,
              "#ed7953"
             ],
             [
              0.7777777777777778,
              "#fb9f3a"
             ],
             [
              0.8888888888888888,
              "#fdca26"
             ],
             [
              1,
              "#f0f921"
             ]
            ],
            "type": "heatmap"
           }
          ],
          "heatmapgl": [
           {
            "colorbar": {
             "outlinewidth": 0,
             "ticks": ""
            },
            "colorscale": [
             [
              0,
              "#0d0887"
             ],
             [
              0.1111111111111111,
              "#46039f"
             ],
             [
              0.2222222222222222,
              "#7201a8"
             ],
             [
              0.3333333333333333,
              "#9c179e"
             ],
             [
              0.4444444444444444,
              "#bd3786"
             ],
             [
              0.5555555555555556,
              "#d8576b"
             ],
             [
              0.6666666666666666,
              "#ed7953"
             ],
             [
              0.7777777777777778,
              "#fb9f3a"
             ],
             [
              0.8888888888888888,
              "#fdca26"
             ],
             [
              1,
              "#f0f921"
             ]
            ],
            "type": "heatmapgl"
           }
          ],
          "histogram": [
           {
            "marker": {
             "colorbar": {
              "outlinewidth": 0,
              "ticks": ""
             }
            },
            "type": "histogram"
           }
          ],
          "histogram2d": [
           {
            "colorbar": {
             "outlinewidth": 0,
             "ticks": ""
            },
            "colorscale": [
             [
              0,
              "#0d0887"
             ],
             [
              0.1111111111111111,
              "#46039f"
             ],
             [
              0.2222222222222222,
              "#7201a8"
             ],
             [
              0.3333333333333333,
              "#9c179e"
             ],
             [
              0.4444444444444444,
              "#bd3786"
             ],
             [
              0.5555555555555556,
              "#d8576b"
             ],
             [
              0.6666666666666666,
              "#ed7953"
             ],
             [
              0.7777777777777778,
              "#fb9f3a"
             ],
             [
              0.8888888888888888,
              "#fdca26"
             ],
             [
              1,
              "#f0f921"
             ]
            ],
            "type": "histogram2d"
           }
          ],
          "histogram2dcontour": [
           {
            "colorbar": {
             "outlinewidth": 0,
             "ticks": ""
            },
            "colorscale": [
             [
              0,
              "#0d0887"
             ],
             [
              0.1111111111111111,
              "#46039f"
             ],
             [
              0.2222222222222222,
              "#7201a8"
             ],
             [
              0.3333333333333333,
              "#9c179e"
             ],
             [
              0.4444444444444444,
              "#bd3786"
             ],
             [
              0.5555555555555556,
              "#d8576b"
             ],
             [
              0.6666666666666666,
              "#ed7953"
             ],
             [
              0.7777777777777778,
              "#fb9f3a"
             ],
             [
              0.8888888888888888,
              "#fdca26"
             ],
             [
              1,
              "#f0f921"
             ]
            ],
            "type": "histogram2dcontour"
           }
          ],
          "mesh3d": [
           {
            "colorbar": {
             "outlinewidth": 0,
             "ticks": ""
            },
            "type": "mesh3d"
           }
          ],
          "parcoords": [
           {
            "line": {
             "colorbar": {
              "outlinewidth": 0,
              "ticks": ""
             }
            },
            "type": "parcoords"
           }
          ],
          "pie": [
           {
            "automargin": true,
            "type": "pie"
           }
          ],
          "scatter": [
           {
            "marker": {
             "line": {
              "color": "#283442"
             }
            },
            "type": "scatter"
           }
          ],
          "scatter3d": [
           {
            "line": {
             "colorbar": {
              "outlinewidth": 0,
              "ticks": ""
             }
            },
            "marker": {
             "colorbar": {
              "outlinewidth": 0,
              "ticks": ""
             }
            },
            "type": "scatter3d"
           }
          ],
          "scattercarpet": [
           {
            "marker": {
             "colorbar": {
              "outlinewidth": 0,
              "ticks": ""
             }
            },
            "type": "scattercarpet"
           }
          ],
          "scattergeo": [
           {
            "marker": {
             "colorbar": {
              "outlinewidth": 0,
              "ticks": ""
             }
            },
            "type": "scattergeo"
           }
          ],
          "scattergl": [
           {
            "marker": {
             "line": {
              "color": "#283442"
             }
            },
            "type": "scattergl"
           }
          ],
          "scattermapbox": [
           {
            "marker": {
             "colorbar": {
              "outlinewidth": 0,
              "ticks": ""
             }
            },
            "type": "scattermapbox"
           }
          ],
          "scatterpolar": [
           {
            "marker": {
             "colorbar": {
              "outlinewidth": 0,
              "ticks": ""
             }
            },
            "type": "scatterpolar"
           }
          ],
          "scatterpolargl": [
           {
            "marker": {
             "colorbar": {
              "outlinewidth": 0,
              "ticks": ""
             }
            },
            "type": "scatterpolargl"
           }
          ],
          "scatterternary": [
           {
            "marker": {
             "colorbar": {
              "outlinewidth": 0,
              "ticks": ""
             }
            },
            "type": "scatterternary"
           }
          ],
          "surface": [
           {
            "colorbar": {
             "outlinewidth": 0,
             "ticks": ""
            },
            "colorscale": [
             [
              0,
              "#0d0887"
             ],
             [
              0.1111111111111111,
              "#46039f"
             ],
             [
              0.2222222222222222,
              "#7201a8"
             ],
             [
              0.3333333333333333,
              "#9c179e"
             ],
             [
              0.4444444444444444,
              "#bd3786"
             ],
             [
              0.5555555555555556,
              "#d8576b"
             ],
             [
              0.6666666666666666,
              "#ed7953"
             ],
             [
              0.7777777777777778,
              "#fb9f3a"
             ],
             [
              0.8888888888888888,
              "#fdca26"
             ],
             [
              1,
              "#f0f921"
             ]
            ],
            "type": "surface"
           }
          ],
          "table": [
           {
            "cells": {
             "fill": {
              "color": "#506784"
             },
             "line": {
              "color": "rgb(17,17,17)"
             }
            },
            "header": {
             "fill": {
              "color": "#2a3f5f"
             },
             "line": {
              "color": "rgb(17,17,17)"
             }
            },
            "type": "table"
           }
          ]
         },
         "layout": {
          "annotationdefaults": {
           "arrowcolor": "#f2f5fa",
           "arrowhead": 0,
           "arrowwidth": 1
          },
          "autotypenumbers": "strict",
          "coloraxis": {
           "colorbar": {
            "outlinewidth": 0,
            "ticks": ""
           }
          },
          "colorscale": {
           "diverging": [
            [
             0,
             "#8e0152"
            ],
            [
             0.1,
             "#c51b7d"
            ],
            [
             0.2,
             "#de77ae"
            ],
            [
             0.3,
             "#f1b6da"
            ],
            [
             0.4,
             "#fde0ef"
            ],
            [
             0.5,
             "#f7f7f7"
            ],
            [
             0.6,
             "#e6f5d0"
            ],
            [
             0.7,
             "#b8e186"
            ],
            [
             0.8,
             "#7fbc41"
            ],
            [
             0.9,
             "#4d9221"
            ],
            [
             1,
             "#276419"
            ]
           ],
           "sequential": [
            [
             0,
             "#0d0887"
            ],
            [
             0.1111111111111111,
             "#46039f"
            ],
            [
             0.2222222222222222,
             "#7201a8"
            ],
            [
             0.3333333333333333,
             "#9c179e"
            ],
            [
             0.4444444444444444,
             "#bd3786"
            ],
            [
             0.5555555555555556,
             "#d8576b"
            ],
            [
             0.6666666666666666,
             "#ed7953"
            ],
            [
             0.7777777777777778,
             "#fb9f3a"
            ],
            [
             0.8888888888888888,
             "#fdca26"
            ],
            [
             1,
             "#f0f921"
            ]
           ],
           "sequentialminus": [
            [
             0,
             "#0d0887"
            ],
            [
             0.1111111111111111,
             "#46039f"
            ],
            [
             0.2222222222222222,
             "#7201a8"
            ],
            [
             0.3333333333333333,
             "#9c179e"
            ],
            [
             0.4444444444444444,
             "#bd3786"
            ],
            [
             0.5555555555555556,
             "#d8576b"
            ],
            [
             0.6666666666666666,
             "#ed7953"
            ],
            [
             0.7777777777777778,
             "#fb9f3a"
            ],
            [
             0.8888888888888888,
             "#fdca26"
            ],
            [
             1,
             "#f0f921"
            ]
           ]
          },
          "colorway": [
           "#636efa",
           "#EF553B",
           "#00cc96",
           "#ab63fa",
           "#FFA15A",
           "#19d3f3",
           "#FF6692",
           "#B6E880",
           "#FF97FF",
           "#FECB52"
          ],
          "font": {
           "color": "#f2f5fa"
          },
          "geo": {
           "bgcolor": "rgb(17,17,17)",
           "lakecolor": "rgb(17,17,17)",
           "landcolor": "rgb(17,17,17)",
           "showlakes": true,
           "showland": true,
           "subunitcolor": "#506784"
          },
          "hoverlabel": {
           "align": "left"
          },
          "hovermode": "closest",
          "mapbox": {
           "style": "dark"
          },
          "paper_bgcolor": "rgb(17,17,17)",
          "plot_bgcolor": "rgb(17,17,17)",
          "polar": {
           "angularaxis": {
            "gridcolor": "#506784",
            "linecolor": "#506784",
            "ticks": ""
           },
           "bgcolor": "rgb(17,17,17)",
           "radialaxis": {
            "gridcolor": "#506784",
            "linecolor": "#506784",
            "ticks": ""
           }
          },
          "scene": {
           "xaxis": {
            "backgroundcolor": "rgb(17,17,17)",
            "gridcolor": "#506784",
            "gridwidth": 2,
            "linecolor": "#506784",
            "showbackground": true,
            "ticks": "",
            "zerolinecolor": "#C8D4E3"
           },
           "yaxis": {
            "backgroundcolor": "rgb(17,17,17)",
            "gridcolor": "#506784",
            "gridwidth": 2,
            "linecolor": "#506784",
            "showbackground": true,
            "ticks": "",
            "zerolinecolor": "#C8D4E3"
           },
           "zaxis": {
            "backgroundcolor": "rgb(17,17,17)",
            "gridcolor": "#506784",
            "gridwidth": 2,
            "linecolor": "#506784",
            "showbackground": true,
            "ticks": "",
            "zerolinecolor": "#C8D4E3"
           }
          },
          "shapedefaults": {
           "line": {
            "color": "#f2f5fa"
           }
          },
          "sliderdefaults": {
           "bgcolor": "#C8D4E3",
           "bordercolor": "rgb(17,17,17)",
           "borderwidth": 1,
           "tickwidth": 0
          },
          "ternary": {
           "aaxis": {
            "gridcolor": "#506784",
            "linecolor": "#506784",
            "ticks": ""
           },
           "baxis": {
            "gridcolor": "#506784",
            "linecolor": "#506784",
            "ticks": ""
           },
           "bgcolor": "rgb(17,17,17)",
           "caxis": {
            "gridcolor": "#506784",
            "linecolor": "#506784",
            "ticks": ""
           }
          },
          "title": {
           "x": 0.05
          },
          "updatemenudefaults": {
           "bgcolor": "#506784",
           "borderwidth": 0
          },
          "xaxis": {
           "automargin": true,
           "gridcolor": "#283442",
           "linecolor": "#506784",
           "ticks": "",
           "title": {
            "standoff": 15
           },
           "zerolinecolor": "#283442",
           "zerolinewidth": 2
          },
          "yaxis": {
           "automargin": true,
           "gridcolor": "#283442",
           "linecolor": "#506784",
           "ticks": "",
           "title": {
            "standoff": 15
           },
           "zerolinecolor": "#283442",
           "zerolinewidth": 2
          }
         }
        },
        "xaxis": {
         "anchor": "y",
         "autorange": true,
         "domain": [
          0,
          1
         ],
         "range": [
          0.810438207779419,
          12
         ],
         "title": {
          "text": "month"
         },
         "type": "linear"
        },
        "yaxis": {
         "anchor": "x",
         "autorange": true,
         "domain": [
          0,
          1
         ],
         "range": [
          6346.821818181818,
          12950.385454545454
         ],
         "title": {
          "text": "char"
         },
         "type": "linear"
        }
       }
      },
      "image/png": "[encoded data removed]",
      "text/html": [
       "<div>                            <div id=\"2aa3acef-e24e-4894-8cbd-b12c02f88409\" class=\"plotly-graph-div\" style=\"height:525px; width:100%;\"></div>            <script type=\"text/javascript\">                require([\"plotly\"], function(Plotly) {                    window.PLOTLYENV=window.PLOTLYENV || {};                                    if (document.getElementById(\"2aa3acef-e24e-4894-8cbd-b12c02f88409\")) {                    Plotly.newPlot(                        \"2aa3acef-e24e-4894-8cbd-b12c02f88409\",                        [{\"hovertemplate\": \"month=%{x}<br>char=%{y}<extra></extra>\", \"legendgroup\": \"\", \"line\": {\"color\": \"#636efa\", \"dash\": \"solid\"}, \"mode\": \"lines\", \"name\": \"\", \"orientation\": \"v\", \"showlegend\": false, \"type\": \"scatter\", \"x\": [1, 2, 3, 4, 5, 6, 7, 8, 9, 10, 11, 12], \"xaxis\": \"x\", \"y\": [8600, 8535, 8429, 7310, 6677, 6918, 7714, 7425, 7056, 12535, 9660, 8113], \"yaxis\": \"y\"}],                        {\"annotations\": [{\"align\": \"right\", \"opacity\": 0.7, \"showarrow\": false, \"text\": \"12535\", \"x\": 10, \"y\": 12535, \"yshift\": 10}, {\"align\": \"right\", \"opacity\": 0.7, \"showarrow\": false, \"text\": \"6677\", \"x\": 1, \"y\": 6677, \"yshift\": 10}], \"legend\": {\"tracegroupgap\": 0}, \"margin\": {\"t\": 60}, \"template\": {\"data\": {\"bar\": [{\"error_x\": {\"color\": \"#f2f5fa\"}, \"error_y\": {\"color\": \"#f2f5fa\"}, \"marker\": {\"line\": {\"color\": \"rgb(17,17,17)\", \"width\": 0.5}}, \"type\": \"bar\"}], \"barpolar\": [{\"marker\": {\"line\": {\"color\": \"rgb(17,17,17)\", \"width\": 0.5}}, \"type\": \"barpolar\"}], \"carpet\": [{\"aaxis\": {\"endlinecolor\": \"#A2B1C6\", \"gridcolor\": \"#506784\", \"linecolor\": \"#506784\", \"minorgridcolor\": \"#506784\", \"startlinecolor\": \"#A2B1C6\"}, \"baxis\": {\"endlinecolor\": \"#A2B1C6\", \"gridcolor\": \"#506784\", \"linecolor\": \"#506784\", \"minorgridcolor\": \"#506784\", \"startlinecolor\": \"#A2B1C6\"}, \"type\": \"carpet\"}], \"choropleth\": [{\"colorbar\": {\"outlinewidth\": 0, \"ticks\": \"\"}, \"type\": \"choropleth\"}], \"contour\": [{\"colorbar\": {\"outlinewidth\": 0, \"ticks\": \"\"}, \"colorscale\": [[0.0, \"#0d0887\"], [0.1111111111111111, \"#46039f\"], [0.2222222222222222, \"#7201a8\"], [0.3333333333333333, \"#9c179e\"], [0.4444444444444444, \"#bd3786\"], [0.5555555555555556, \"#d8576b\"], [0.6666666666666666, \"#ed7953\"], [0.7777777777777778, \"#fb9f3a\"], [0.8888888888888888, \"#fdca26\"], [1.0, \"#f0f921\"]], \"type\": \"contour\"}], \"contourcarpet\": [{\"colorbar\": {\"outlinewidth\": 0, \"ticks\": \"\"}, \"type\": \"contourcarpet\"}], \"heatmap\": [{\"colorbar\": {\"outlinewidth\": 0, \"ticks\": \"\"}, \"colorscale\": [[0.0, \"#0d0887\"], [0.1111111111111111, \"#46039f\"], [0.2222222222222222, \"#7201a8\"], [0.3333333333333333, \"#9c179e\"], [0.4444444444444444, \"#bd3786\"], [0.5555555555555556, \"#d8576b\"], [0.6666666666666666, \"#ed7953\"], [0.7777777777777778, \"#fb9f3a\"], [0.8888888888888888, \"#fdca26\"], [1.0, \"#f0f921\"]], \"type\": \"heatmap\"}], \"heatmapgl\": [{\"colorbar\": {\"outlinewidth\": 0, \"ticks\": \"\"}, \"colorscale\": [[0.0, \"#0d0887\"], [0.1111111111111111, \"#46039f\"], [0.2222222222222222, \"#7201a8\"], [0.3333333333333333, \"#9c179e\"], [0.4444444444444444, \"#bd3786\"], [0.5555555555555556, \"#d8576b\"], [0.6666666666666666, \"#ed7953\"], [0.7777777777777778, \"#fb9f3a\"], [0.8888888888888888, \"#fdca26\"], [1.0, \"#f0f921\"]], \"type\": \"heatmapgl\"}], \"histogram\": [{\"marker\": {\"colorbar\": {\"outlinewidth\": 0, \"ticks\": \"\"}}, \"type\": \"histogram\"}], \"histogram2d\": [{\"colorbar\": {\"outlinewidth\": 0, \"ticks\": \"\"}, \"colorscale\": [[0.0, \"#0d0887\"], [0.1111111111111111, \"#46039f\"], [0.2222222222222222, \"#7201a8\"], [0.3333333333333333, \"#9c179e\"], [0.4444444444444444, \"#bd3786\"], [0.5555555555555556, \"#d8576b\"], [0.6666666666666666, \"#ed7953\"], [0.7777777777777778, \"#fb9f3a\"], [0.8888888888888888, \"#fdca26\"], [1.0, \"#f0f921\"]], \"type\": \"histogram2d\"}], \"histogram2dcontour\": [{\"colorbar\": {\"outlinewidth\": 0, \"ticks\": \"\"}, \"colorscale\": [[0.0, \"#0d0887\"], [0.1111111111111111, \"#46039f\"], [0.2222222222222222, \"#7201a8\"], [0.3333333333333333, \"#9c179e\"], [0.4444444444444444, \"#bd3786\"], [0.5555555555555556, \"#d8576b\"], [0.6666666666666666, \"#ed7953\"], [0.7777777777777778, \"#fb9f3a\"], [0.8888888888888888, \"#fdca26\"], [1.0, \"#f0f921\"]], \"type\": \"histogram2dcontour\"}], \"mesh3d\": [{\"colorbar\": {\"outlinewidth\": 0, \"ticks\": \"\"}, \"type\": \"mesh3d\"}], \"parcoords\": [{\"line\": {\"colorbar\": {\"outlinewidth\": 0, \"ticks\": \"\"}}, \"type\": \"parcoords\"}], \"pie\": [{\"automargin\": true, \"type\": \"pie\"}], \"scatter\": [{\"marker\": {\"line\": {\"color\": \"#283442\"}}, \"type\": \"scatter\"}], \"scatter3d\": [{\"line\": {\"colorbar\": {\"outlinewidth\": 0, \"ticks\": \"\"}}, \"marker\": {\"colorbar\": {\"outlinewidth\": 0, \"ticks\": \"\"}}, \"type\": \"scatter3d\"}], \"scattercarpet\": [{\"marker\": {\"colorbar\": {\"outlinewidth\": 0, \"ticks\": \"\"}}, \"type\": \"scattercarpet\"}], \"scattergeo\": [{\"marker\": {\"colorbar\": {\"outlinewidth\": 0, \"ticks\": \"\"}}, \"type\": \"scattergeo\"}], \"scattergl\": [{\"marker\": {\"line\": {\"color\": \"#283442\"}}, \"type\": \"scattergl\"}], \"scattermapbox\": [{\"marker\": {\"colorbar\": {\"outlinewidth\": 0, \"ticks\": \"\"}}, \"type\": \"scattermapbox\"}], \"scatterpolar\": [{\"marker\": {\"colorbar\": {\"outlinewidth\": 0, \"ticks\": \"\"}}, \"type\": \"scatterpolar\"}], \"scatterpolargl\": [{\"marker\": {\"colorbar\": {\"outlinewidth\": 0, \"ticks\": \"\"}}, \"type\": \"scatterpolargl\"}], \"scatterternary\": [{\"marker\": {\"colorbar\": {\"outlinewidth\": 0, \"ticks\": \"\"}}, \"type\": \"scatterternary\"}], \"surface\": [{\"colorbar\": {\"outlinewidth\": 0, \"ticks\": \"\"}, \"colorscale\": [[0.0, \"#0d0887\"], [0.1111111111111111, \"#46039f\"], [0.2222222222222222, \"#7201a8\"], [0.3333333333333333, \"#9c179e\"], [0.4444444444444444, \"#bd3786\"], [0.5555555555555556, \"#d8576b\"], [0.6666666666666666, \"#ed7953\"], [0.7777777777777778, \"#fb9f3a\"], [0.8888888888888888, \"#fdca26\"], [1.0, \"#f0f921\"]], \"type\": \"surface\"}], \"table\": [{\"cells\": {\"fill\": {\"color\": \"#506784\"}, \"line\": {\"color\": \"rgb(17,17,17)\"}}, \"header\": {\"fill\": {\"color\": \"#2a3f5f\"}, \"line\": {\"color\": \"rgb(17,17,17)\"}}, \"type\": \"table\"}]}, \"layout\": {\"annotationdefaults\": {\"arrowcolor\": \"#f2f5fa\", \"arrowhead\": 0, \"arrowwidth\": 1}, \"autotypenumbers\": \"strict\", \"coloraxis\": {\"colorbar\": {\"outlinewidth\": 0, \"ticks\": \"\"}}, \"colorscale\": {\"diverging\": [[0, \"#8e0152\"], [0.1, \"#c51b7d\"], [0.2, \"#de77ae\"], [0.3, \"#f1b6da\"], [0.4, \"#fde0ef\"], [0.5, \"#f7f7f7\"], [0.6, \"#e6f5d0\"], [0.7, \"#b8e186\"], [0.8, \"#7fbc41\"], [0.9, \"#4d9221\"], [1, \"#276419\"]], \"sequential\": [[0.0, \"#0d0887\"], [0.1111111111111111, \"#46039f\"], [0.2222222222222222, \"#7201a8\"], [0.3333333333333333, \"#9c179e\"], [0.4444444444444444, \"#bd3786\"], [0.5555555555555556, \"#d8576b\"], [0.6666666666666666, \"#ed7953\"], [0.7777777777777778, \"#fb9f3a\"], [0.8888888888888888, \"#fdca26\"], [1.0, \"#f0f921\"]], \"sequentialminus\": [[0.0, \"#0d0887\"], [0.1111111111111111, \"#46039f\"], [0.2222222222222222, \"#7201a8\"], [0.3333333333333333, \"#9c179e\"], [0.4444444444444444, \"#bd3786\"], [0.5555555555555556, \"#d8576b\"], [0.6666666666666666, \"#ed7953\"], [0.7777777777777778, \"#fb9f3a\"], [0.8888888888888888, \"#fdca26\"], [1.0, \"#f0f921\"]]}, \"colorway\": [\"#636efa\", \"#EF553B\", \"#00cc96\", \"#ab63fa\", \"#FFA15A\", \"#19d3f3\", \"#FF6692\", \"#B6E880\", \"#FF97FF\", \"#FECB52\"], \"font\": {\"color\": \"#f2f5fa\"}, \"geo\": {\"bgcolor\": \"rgb(17,17,17)\", \"lakecolor\": \"rgb(17,17,17)\", \"landcolor\": \"rgb(17,17,17)\", \"showlakes\": true, \"showland\": true, \"subunitcolor\": \"#506784\"}, \"hoverlabel\": {\"align\": \"left\"}, \"hovermode\": \"closest\", \"mapbox\": {\"style\": \"dark\"}, \"paper_bgcolor\": \"rgb(17,17,17)\", \"plot_bgcolor\": \"rgb(17,17,17)\", \"polar\": {\"angularaxis\": {\"gridcolor\": \"#506784\", \"linecolor\": \"#506784\", \"ticks\": \"\"}, \"bgcolor\": \"rgb(17,17,17)\", \"radialaxis\": {\"gridcolor\": \"#506784\", \"linecolor\": \"#506784\", \"ticks\": \"\"}}, \"scene\": {\"xaxis\": {\"backgroundcolor\": \"rgb(17,17,17)\", \"gridcolor\": \"#506784\", \"gridwidth\": 2, \"linecolor\": \"#506784\", \"showbackground\": true, \"ticks\": \"\", \"zerolinecolor\": \"#C8D4E3\"}, \"yaxis\": {\"backgroundcolor\": \"rgb(17,17,17)\", \"gridcolor\": \"#506784\", \"gridwidth\": 2, \"linecolor\": \"#506784\", \"showbackground\": true, \"ticks\": \"\", \"zerolinecolor\": \"#C8D4E3\"}, \"zaxis\": {\"backgroundcolor\": \"rgb(17,17,17)\", \"gridcolor\": \"#506784\", \"gridwidth\": 2, \"linecolor\": \"#506784\", \"showbackground\": true, \"ticks\": \"\", \"zerolinecolor\": \"#C8D4E3\"}}, \"shapedefaults\": {\"line\": {\"color\": \"#f2f5fa\"}}, \"sliderdefaults\": {\"bgcolor\": \"#C8D4E3\", \"bordercolor\": \"rgb(17,17,17)\", \"borderwidth\": 1, \"tickwidth\": 0}, \"ternary\": {\"aaxis\": {\"gridcolor\": \"#506784\", \"linecolor\": \"#506784\", \"ticks\": \"\"}, \"baxis\": {\"gridcolor\": \"#506784\", \"linecolor\": \"#506784\", \"ticks\": \"\"}, \"bgcolor\": \"rgb(17,17,17)\", \"caxis\": {\"gridcolor\": \"#506784\", \"linecolor\": \"#506784\", \"ticks\": \"\"}}, \"title\": {\"x\": 0.05}, \"updatemenudefaults\": {\"bgcolor\": \"#506784\", \"borderwidth\": 0}, \"xaxis\": {\"automargin\": true, \"gridcolor\": \"#283442\", \"linecolor\": \"#506784\", \"ticks\": \"\", \"title\": {\"standoff\": 15}, \"zerolinecolor\": \"#283442\", \"zerolinewidth\": 2}, \"yaxis\": {\"automargin\": true, \"gridcolor\": \"#283442\", \"linecolor\": \"#506784\", \"ticks\": \"\", \"title\": {\"standoff\": 15}, \"zerolinecolor\": \"#283442\", \"zerolinewidth\": 2}}}, \"xaxis\": {\"anchor\": \"y\", \"domain\": [0.0, 1.0], \"title\": {\"text\": \"month\"}}, \"yaxis\": {\"anchor\": \"x\", \"domain\": [0.0, 1.0], \"title\": {\"text\": \"char\"}}},                        {\"responsive\": true}                    ).then(function(){\n",
       "                            \n",
       "var gd = document.getElementById('2aa3acef-e24e-4894-8cbd-b12c02f88409');\n",
       "var x = new MutationObserver(function (mutations, observer) {{\n",
       "        var display = window.getComputedStyle(gd).display;\n",
       "        if (!display || display === 'none') {{\n",
       "            console.log([gd, 'removed!']);\n",
       "            Plotly.purge(gd);\n",
       "            observer.disconnect();\n",
       "        }}\n",
       "}});\n",
       "\n",
       "// Listen for the removal of the full notebook cells\n",
       "var notebookContainer = gd.closest('#notebook-container');\n",
       "if (notebookContainer) {{\n",
       "    x.observe(notebookContainer, {childList: true});\n",
       "}}\n",
       "\n",
       "// Listen for the clearing of the current output cell\n",
       "var outputEl = gd.closest('.output');\n",
       "if (outputEl) {{\n",
       "    x.observe(outputEl, {childList: true});\n",
       "}}\n",
       "\n",
       "                        })                };                });            </script>        </div>"
      ]
     },
     "metadata": {},
     "output_type": "display_data"
    }
   ],
   "source": [
    "fig = px.line(mau, x='month', y='char', template='plotly_dark')\n",
    "fig.add_annotation(showarrow=False,\n",
    "                   align = 'right',\n",
    "                   x=mau.month[mau.max(axis = 1).idxmax()],\n",
    "                   y=mau.max().char,\n",
    "                   text=str(mau.max().char),\n",
    "                   yshift=10,\n",
    "                   opacity=0.7)\n",
    "fig.add_annotation(showarrow=False,\n",
    "                   align = 'right',\n",
    "                   x=mau.month[mau.min(axis = 1).idxmin()],\n",
    "                   y=mau.min().char,\n",
    "                   text=str(mau.min().char),\n",
    "                   yshift=10,\n",
    "                   opacity=0.7)\n",
    "fig.show()\n",
    "fig.write_image(\"img/mau.png\")"
   ]
  },
  {
   "cell_type": "code",
   "execution_count": 236,
   "metadata": {},
   "outputs": [],
   "source": [
    "# retention rate"
   ]
  },
  {
   "cell_type": "code",
   "execution_count": 41,
   "metadata": {},
   "outputs": [],
   "source": [
    "#유저별로 첫번째 접속한 날짜\n",
    "first_login = df.groupby(by=['char'])['date'].min().reset_index()"
   ]
  },
  {
   "cell_type": "code",
   "execution_count": 42,
   "metadata": {},
   "outputs": [],
   "source": [
    "first_login = first_login.rename(columns={'date':'first_date'})"
   ]
  },
  {
   "cell_type": "code",
   "execution_count": 43,
   "metadata": {},
   "outputs": [],
   "source": [
    "df_merged = pd.merge(df, first_login, how='left', on='char')"
   ]
  },
  {
   "cell_type": "code",
   "execution_count": 44,
   "metadata": {},
   "outputs": [],
   "source": [
    "df_merged['day_played'] = df_merged['date'] - df_merged['first_date']"
   ]
  },
  {
   "cell_type": "code",
   "execution_count": 45,
   "metadata": {},
   "outputs": [],
   "source": [
    "cohort_played = pd.pivot_table(df_merged, index=['first_date'], columns =['day_played'], values='char', aggfunc=pd.Series.nunique)"
   ]
  },
  {
   "cell_type": "code",
   "execution_count": 46,
   "metadata": {},
   "outputs": [],
   "source": [
    "retention = []\n",
    "for col in cohort_played.columns:\n",
    "    retention_i = cohort_played[col].fillna(0).sum() / (cohort_played[col].fillna(0).astype('bool').astype('int') * cohort_played['0 days']).sum()\n",
    "    retention.append(retention_i)"
   ]
  },
  {
   "cell_type": "code",
   "execution_count": 48,
   "metadata": {},
   "outputs": [],
   "source": [
    "retention_df = pd.DataFrame({'cohort':cohort_played.columns[1:], 'retention':retention[1:]})"
   ]
  },
  {
   "cell_type": "code",
   "execution_count": 49,
   "metadata": {},
   "outputs": [],
   "source": [
    "retention_df['retention'] = [round(x, 2) for x in retention_df['retention']]"
   ]
  },
  {
   "cell_type": "code",
   "execution_count": 50,
   "metadata": {},
   "outputs": [],
   "source": [
    "retention_df['cohort'] = [str(dt.days) + ' days' for dt in retention_df['cohort'] ]"
   ]
  },
  {
   "cell_type": "code",
   "execution_count": 54,
   "metadata": {},
   "outputs": [
    {
     "data": {
      "application/vnd.plotly.v1+json": {
       "config": {
        "plotlyServerURL": "https://plot.ly"
       },
       "data": [
        {
         "hovertemplate": "cohort=%{x}<br>retention=%{y}<extra></extra>",
         "legendgroup": "",
         "line": {
          "color": "#636efa",
          "dash": "solid"
         },
         "mode": "lines",
         "name": "",
         "orientation": "v",
         "showlegend": false,
         "type": "scatter",
         "x": [
          "1 days",
          "2 days",
          "3 days",
          "4 days",
          "5 days",
          "6 days",
          "7 days",
          "8 days",
          "9 days",
          "10 days",
          "11 days",
          "12 days",
          "13 days",
          "14 days",
          "15 days",
          "16 days",
          "17 days",
          "18 days",
          "19 days",
          "20 days",
          "21 days",
          "22 days",
          "23 days",
          "24 days",
          "25 days",
          "26 days",
          "27 days",
          "28 days",
          "29 days",
          "30 days",
          "31 days",
          "32 days",
          "33 days",
          "34 days",
          "35 days",
          "36 days",
          "37 days",
          "38 days",
          "39 days",
          "40 days",
          "41 days",
          "42 days",
          "43 days",
          "44 days",
          "45 days",
          "46 days",
          "47 days",
          "48 days",
          "49 days",
          "50 days",
          "51 days",
          "52 days",
          "53 days",
          "54 days",
          "55 days",
          "56 days",
          "57 days",
          "58 days",
          "59 days",
          "60 days",
          "61 days",
          "62 days",
          "63 days",
          "64 days",
          "65 days",
          "66 days",
          "67 days",
          "68 days",
          "69 days",
          "70 days",
          "71 days",
          "72 days",
          "73 days",
          "74 days",
          "75 days",
          "76 days",
          "77 days",
          "78 days",
          "79 days",
          "80 days",
          "81 days",
          "82 days",
          "83 days",
          "84 days",
          "85 days",
          "86 days",
          "87 days",
          "88 days",
          "89 days",
          "90 days",
          "91 days",
          "92 days",
          "93 days",
          "94 days",
          "95 days",
          "96 days",
          "97 days",
          "98 days",
          "99 days",
          "100 days",
          "101 days",
          "102 days",
          "103 days",
          "104 days",
          "105 days",
          "106 days",
          "107 days",
          "108 days",
          "109 days",
          "110 days",
          "111 days",
          "112 days",
          "113 days",
          "114 days",
          "115 days",
          "116 days",
          "117 days",
          "118 days",
          "119 days",
          "120 days",
          "121 days",
          "122 days",
          "123 days",
          "124 days",
          "125 days",
          "126 days",
          "127 days",
          "128 days",
          "129 days",
          "130 days",
          "131 days",
          "132 days",
          "133 days",
          "134 days",
          "135 days",
          "136 days",
          "137 days",
          "138 days",
          "139 days",
          "140 days",
          "141 days",
          "142 days",
          "143 days",
          "144 days",
          "145 days",
          "146 days",
          "147 days",
          "148 days",
          "149 days",
          "150 days",
          "151 days",
          "152 days",
          "153 days",
          "154 days",
          "155 days",
          "156 days",
          "157 days",
          "158 days",
          "159 days",
          "160 days",
          "161 days",
          "162 days",
          "163 days",
          "164 days",
          "165 days",
          "166 days",
          "167 days",
          "168 days",
          "169 days",
          "170 days",
          "171 days",
          "172 days",
          "173 days",
          "174 days",
          "175 days",
          "176 days",
          "177 days",
          "178 days",
          "179 days",
          "180 days",
          "181 days",
          "182 days",
          "183 days",
          "184 days",
          "185 days",
          "186 days",
          "187 days",
          "188 days",
          "189 days",
          "190 days",
          "191 days",
          "192 days",
          "193 days",
          "194 days",
          "195 days",
          "196 days",
          "197 days",
          "198 days",
          "199 days",
          "200 days",
          "201 days",
          "202 days",
          "203 days",
          "204 days",
          "205 days",
          "206 days",
          "207 days",
          "208 days",
          "209 days",
          "210 days",
          "211 days",
          "212 days",
          "213 days",
          "214 days",
          "215 days",
          "216 days",
          "217 days",
          "218 days",
          "219 days",
          "220 days",
          "221 days",
          "222 days",
          "223 days",
          "224 days",
          "225 days",
          "226 days",
          "227 days",
          "228 days",
          "229 days",
          "230 days",
          "231 days",
          "232 days",
          "233 days",
          "234 days",
          "235 days",
          "236 days",
          "237 days",
          "238 days",
          "239 days",
          "240 days",
          "241 days",
          "242 days",
          "243 days",
          "244 days",
          "245 days",
          "246 days",
          "247 days",
          "248 days",
          "249 days",
          "250 days",
          "251 days",
          "252 days",
          "253 days",
          "254 days",
          "255 days",
          "256 days",
          "257 days",
          "258 days",
          "259 days",
          "260 days",
          "261 days",
          "262 days",
          "263 days",
          "264 days",
          "265 days",
          "266 days",
          "267 days",
          "268 days",
          "269 days",
          "270 days",
          "271 days",
          "272 days",
          "273 days",
          "274 days",
          "275 days",
          "276 days",
          "277 days",
          "278 days",
          "279 days",
          "280 days",
          "281 days",
          "282 days",
          "283 days",
          "284 days",
          "285 days",
          "286 days",
          "287 days",
          "288 days",
          "289 days",
          "290 days",
          "291 days",
          "292 days",
          "293 days",
          "294 days",
          "295 days",
          "296 days",
          "297 days",
          "298 days",
          "299 days",
          "300 days",
          "301 days",
          "302 days",
          "303 days",
          "304 days",
          "305 days",
          "306 days",
          "307 days",
          "308 days",
          "309 days",
          "310 days",
          "311 days",
          "312 days",
          "313 days",
          "314 days",
          "315 days",
          "316 days",
          "317 days",
          "318 days",
          "319 days",
          "320 days",
          "321 days",
          "322 days",
          "323 days",
          "324 days",
          "325 days",
          "326 days",
          "327 days",
          "328 days",
          "329 days",
          "330 days",
          "331 days",
          "332 days",
          "333 days",
          "334 days",
          "335 days",
          "336 days",
          "337 days",
          "338 days",
          "339 days",
          "340 days",
          "341 days",
          "342 days",
          "343 days",
          "344 days",
          "345 days",
          "346 days",
          "347 days",
          "348 days",
          "349 days",
          "350 days",
          "351 days",
          "352 days",
          "353 days",
          "354 days",
          "355 days",
          "356 days",
          "357 days",
          "358 days",
          "359 days",
          "360 days",
          "361 days",
          "362 days",
          "363 days",
          "364 days",
          "365 days"
         ],
         "xaxis": "x",
         "y": [
          0.28,
          0.2,
          0.18,
          0.17,
          0.16,
          0.15,
          0.15,
          0.14,
          0.13,
          0.13,
          0.13,
          0.13,
          0.13,
          0.13,
          0.12,
          0.12,
          0.12,
          0.12,
          0.12,
          0.11,
          0.12,
          0.11,
          0.1,
          0.11,
          0.12,
          0.11,
          0.11,
          0.11,
          0.11,
          0.1,
          0.1,
          0.1,
          0.11,
          0.1,
          0.11,
          0.1,
          0.09,
          0.09,
          0.1,
          0.1,
          0.1,
          0.1,
          0.1,
          0.1,
          0.1,
          0.1,
          0.1,
          0.1,
          0.1,
          0.09,
          0.09,
          0.09,
          0.1,
          0.1,
          0.09,
          0.09,
          0.09,
          0.09,
          0.09,
          0.09,
          0.09,
          0.09,
          0.09,
          0.09,
          0.09,
          0.09,
          0.09,
          0.09,
          0.09,
          0.09,
          0.09,
          0.09,
          0.09,
          0.09,
          0.09,
          0.09,
          0.09,
          0.09,
          0.09,
          0.09,
          0.09,
          0.09,
          0.09,
          0.09,
          0.1,
          0.07,
          0.09,
          0.11,
          0.11,
          0.1,
          0.1,
          0.09,
          0.06,
          0.05,
          0.06,
          0.06,
          0.1,
          0.1,
          0.1,
          0.1,
          0.1,
          0.1,
          0.11,
          0.1,
          0.1,
          0.1,
          0.1,
          0.1,
          0.1,
          0.1,
          0.1,
          0.1,
          0.1,
          0.1,
          0.09,
          0.1,
          0.1,
          0.09,
          0.09,
          0.07,
          0.05,
          0.05,
          0.05,
          0.05,
          0.06,
          0.09,
          0.1,
          0.09,
          0.09,
          0.1,
          0.1,
          0.09,
          0.09,
          0.09,
          0.09,
          0.07,
          0.05,
          0.06,
          0.09,
          0.09,
          0.09,
          0.09,
          0.09,
          0.1,
          0.09,
          0.09,
          0.09,
          0.09,
          0.09,
          0.09,
          0.09,
          0.09,
          0.09,
          0.09,
          0.09,
          0.09,
          0.09,
          0.09,
          0.09,
          0.09,
          0.09,
          0.08,
          0.08,
          0.06,
          0.04,
          0.05,
          0.05,
          0.06,
          0.08,
          0.08,
          0.08,
          0.09,
          0.06,
          0.08,
          0.09,
          0.09,
          0.09,
          0.09,
          0.09,
          0.09,
          0.09,
          0.09,
          0.09,
          0.08,
          0.09,
          0.09,
          0.09,
          0.09,
          0.09,
          0.08,
          0.08,
          0.09,
          0.09,
          0.09,
          0.09,
          0.09,
          0.09,
          0.09,
          0.09,
          0.09,
          0.09,
          0.08,
          0.09,
          0.08,
          0.08,
          0.08,
          0.09,
          0.09,
          0.09,
          0.09,
          0.09,
          0.08,
          0.09,
          0.09,
          0.08,
          0.08,
          0.08,
          0.08,
          0.08,
          0.08,
          0.09,
          0.09,
          0.08,
          0.08,
          0.08,
          0.08,
          0.08,
          0.09,
          0.08,
          0.08,
          0.09,
          0.08,
          0.08,
          0.08,
          0.09,
          0.09,
          0.08,
          0.08,
          0.08,
          0.08,
          0.08,
          0.09,
          0.09,
          0.08,
          0.08,
          0.08,
          0.08,
          0.08,
          0.08,
          0.08,
          0.08,
          0.08,
          0.08,
          0.08,
          0.08,
          0.09,
          0.09,
          0.08,
          0.08,
          0.08,
          0.07,
          0.08,
          0.08,
          0.08,
          0.08,
          0.08,
          0.08,
          0.08,
          0.08,
          0.09,
          0.09,
          0.09,
          0.08,
          0.08,
          0.08,
          0.08,
          0.08,
          0.08,
          0.08,
          0.08,
          0.08,
          0.07,
          0.08,
          0.07,
          0.08,
          0.07,
          0.07,
          0.07,
          0.07,
          0.07,
          0.08,
          0.08,
          0.08,
          0.08,
          0.08,
          0.07,
          0.09,
          0.1,
          0.1,
          0.09,
          0.09,
          0.09,
          0.08,
          0.08,
          0.09,
          0.09,
          0.08,
          0.08,
          0.08,
          0.08,
          0.09,
          0.09,
          0.09,
          0.08,
          0.08,
          0.08,
          0.08,
          0.08,
          0.09,
          0.09,
          0.07,
          0.05,
          0.08,
          0.08,
          0.08,
          0.09,
          0.09,
          0.09,
          0.09,
          0.08,
          0.08,
          0.09,
          0.09,
          0.1,
          0.09,
          0.1,
          0.09,
          0.09,
          0.09,
          0.1,
          0.11,
          0.1,
          0.1,
          0.1,
          0.11,
          0.11,
          0.12,
          0.12,
          0.12,
          0.12,
          0.12,
          0.12,
          0.13,
          0.13,
          0.14,
          0.13,
          0.14,
          0.14,
          0.14,
          0.16,
          0.17,
          0.18,
          0.18,
          0.19,
          0.2
         ],
         "yaxis": "y"
        }
       ],
       "layout": {
        "annotations": [
         {
          "align": "right",
          "opacity": 0.7,
          "showarrow": false,
          "text": "0.28",
          "x": "1 days",
          "y": 0.28,
          "yshift": 10
         },
         {
          "align": "right",
          "opacity": 0.7,
          "showarrow": false,
          "text": "0.04",
          "x": "165 days",
          "y": 0.04,
          "yshift": -10
         }
        ],
        "autosize": true,
        "legend": {
         "tracegroupgap": 0
        },
        "margin": {
         "t": 60
        },
        "template": {
         "data": {
          "bar": [
           {
            "error_x": {
             "color": "#f2f5fa"
            },
            "error_y": {
             "color": "#f2f5fa"
            },
            "marker": {
             "line": {
              "color": "rgb(17,17,17)",
              "width": 0.5
             }
            },
            "type": "bar"
           }
          ],
          "barpolar": [
           {
            "marker": {
             "line": {
              "color": "rgb(17,17,17)",
              "width": 0.5
             }
            },
            "type": "barpolar"
           }
          ],
          "carpet": [
           {
            "aaxis": {
             "endlinecolor": "#A2B1C6",
             "gridcolor": "#506784",
             "linecolor": "#506784",
             "minorgridcolor": "#506784",
             "startlinecolor": "#A2B1C6"
            },
            "baxis": {
             "endlinecolor": "#A2B1C6",
             "gridcolor": "#506784",
             "linecolor": "#506784",
             "minorgridcolor": "#506784",
             "startlinecolor": "#A2B1C6"
            },
            "type": "carpet"
           }
          ],
          "choropleth": [
           {
            "colorbar": {
             "outlinewidth": 0,
             "ticks": ""
            },
            "type": "choropleth"
           }
          ],
          "contour": [
           {
            "colorbar": {
             "outlinewidth": 0,
             "ticks": ""
            },
            "colorscale": [
             [
              0,
              "#0d0887"
             ],
             [
              0.1111111111111111,
              "#46039f"
             ],
             [
              0.2222222222222222,
              "#7201a8"
             ],
             [
              0.3333333333333333,
              "#9c179e"
             ],
             [
              0.4444444444444444,
              "#bd3786"
             ],
             [
              0.5555555555555556,
              "#d8576b"
             ],
             [
              0.6666666666666666,
              "#ed7953"
             ],
             [
              0.7777777777777778,
              "#fb9f3a"
             ],
             [
              0.8888888888888888,
              "#fdca26"
             ],
             [
              1,
              "#f0f921"
             ]
            ],
            "type": "contour"
           }
          ],
          "contourcarpet": [
           {
            "colorbar": {
             "outlinewidth": 0,
             "ticks": ""
            },
            "type": "contourcarpet"
           }
          ],
          "heatmap": [
           {
            "colorbar": {
             "outlinewidth": 0,
             "ticks": ""
            },
            "colorscale": [
             [
              0,
              "#0d0887"
             ],
             [
              0.1111111111111111,
              "#46039f"
             ],
             [
              0.2222222222222222,
              "#7201a8"
             ],
             [
              0.3333333333333333,
              "#9c179e"
             ],
             [
              0.4444444444444444,
              "#bd3786"
             ],
             [
              0.5555555555555556,
              "#d8576b"
             ],
             [
              0.6666666666666666,
              "#ed7953"
             ],
             [
              0.7777777777777778,
              "#fb9f3a"
             ],
             [
              0.8888888888888888,
              "#fdca26"
             ],
             [
              1,
              "#f0f921"
             ]
            ],
            "type": "heatmap"
           }
          ],
          "heatmapgl": [
           {
            "colorbar": {
             "outlinewidth": 0,
             "ticks": ""
            },
            "colorscale": [
             [
              0,
              "#0d0887"
             ],
             [
              0.1111111111111111,
              "#46039f"
             ],
             [
              0.2222222222222222,
              "#7201a8"
             ],
             [
              0.3333333333333333,
              "#9c179e"
             ],
             [
              0.4444444444444444,
              "#bd3786"
             ],
             [
              0.5555555555555556,
              "#d8576b"
             ],
             [
              0.6666666666666666,
              "#ed7953"
             ],
             [
              0.7777777777777778,
              "#fb9f3a"
             ],
             [
              0.8888888888888888,
              "#fdca26"
             ],
             [
              1,
              "#f0f921"
             ]
            ],
            "type": "heatmapgl"
           }
          ],
          "histogram": [
           {
            "marker": {
             "colorbar": {
              "outlinewidth": 0,
              "ticks": ""
             }
            },
            "type": "histogram"
           }
          ],
          "histogram2d": [
           {
            "colorbar": {
             "outlinewidth": 0,
             "ticks": ""
            },
            "colorscale": [
             [
              0,
              "#0d0887"
             ],
             [
              0.1111111111111111,
              "#46039f"
             ],
             [
              0.2222222222222222,
              "#7201a8"
             ],
             [
              0.3333333333333333,
              "#9c179e"
             ],
             [
              0.4444444444444444,
              "#bd3786"
             ],
             [
              0.5555555555555556,
              "#d8576b"
             ],
             [
              0.6666666666666666,
              "#ed7953"
             ],
             [
              0.7777777777777778,
              "#fb9f3a"
             ],
             [
              0.8888888888888888,
              "#fdca26"
             ],
             [
              1,
              "#f0f921"
             ]
            ],
            "type": "histogram2d"
           }
          ],
          "histogram2dcontour": [
           {
            "colorbar": {
             "outlinewidth": 0,
             "ticks": ""
            },
            "colorscale": [
             [
              0,
              "#0d0887"
             ],
             [
              0.1111111111111111,
              "#46039f"
             ],
             [
              0.2222222222222222,
              "#7201a8"
             ],
             [
              0.3333333333333333,
              "#9c179e"
             ],
             [
              0.4444444444444444,
              "#bd3786"
             ],
             [
              0.5555555555555556,
              "#d8576b"
             ],
             [
              0.6666666666666666,
              "#ed7953"
             ],
             [
              0.7777777777777778,
              "#fb9f3a"
             ],
             [
              0.8888888888888888,
              "#fdca26"
             ],
             [
              1,
              "#f0f921"
             ]
            ],
            "type": "histogram2dcontour"
           }
          ],
          "mesh3d": [
           {
            "colorbar": {
             "outlinewidth": 0,
             "ticks": ""
            },
            "type": "mesh3d"
           }
          ],
          "parcoords": [
           {
            "line": {
             "colorbar": {
              "outlinewidth": 0,
              "ticks": ""
             }
            },
            "type": "parcoords"
           }
          ],
          "pie": [
           {
            "automargin": true,
            "type": "pie"
           }
          ],
          "scatter": [
           {
            "marker": {
             "line": {
              "color": "#283442"
             }
            },
            "type": "scatter"
           }
          ],
          "scatter3d": [
           {
            "line": {
             "colorbar": {
              "outlinewidth": 0,
              "ticks": ""
             }
            },
            "marker": {
             "colorbar": {
              "outlinewidth": 0,
              "ticks": ""
             }
            },
            "type": "scatter3d"
           }
          ],
          "scattercarpet": [
           {
            "marker": {
             "colorbar": {
              "outlinewidth": 0,
              "ticks": ""
             }
            },
            "type": "scattercarpet"
           }
          ],
          "scattergeo": [
           {
            "marker": {
             "colorbar": {
              "outlinewidth": 0,
              "ticks": ""
             }
            },
            "type": "scattergeo"
           }
          ],
          "scattergl": [
           {
            "marker": {
             "line": {
              "color": "#283442"
             }
            },
            "type": "scattergl"
           }
          ],
          "scattermapbox": [
           {
            "marker": {
             "colorbar": {
              "outlinewidth": 0,
              "ticks": ""
             }
            },
            "type": "scattermapbox"
           }
          ],
          "scatterpolar": [
           {
            "marker": {
             "colorbar": {
              "outlinewidth": 0,
              "ticks": ""
             }
            },
            "type": "scatterpolar"
           }
          ],
          "scatterpolargl": [
           {
            "marker": {
             "colorbar": {
              "outlinewidth": 0,
              "ticks": ""
             }
            },
            "type": "scatterpolargl"
           }
          ],
          "scatterternary": [
           {
            "marker": {
             "colorbar": {
              "outlinewidth": 0,
              "ticks": ""
             }
            },
            "type": "scatterternary"
           }
          ],
          "surface": [
           {
            "colorbar": {
             "outlinewidth": 0,
             "ticks": ""
            },
            "colorscale": [
             [
              0,
              "#0d0887"
             ],
             [
              0.1111111111111111,
              "#46039f"
             ],
             [
              0.2222222222222222,
              "#7201a8"
             ],
             [
              0.3333333333333333,
              "#9c179e"
             ],
             [
              0.4444444444444444,
              "#bd3786"
             ],
             [
              0.5555555555555556,
              "#d8576b"
             ],
             [
              0.6666666666666666,
              "#ed7953"
             ],
             [
              0.7777777777777778,
              "#fb9f3a"
             ],
             [
              0.8888888888888888,
              "#fdca26"
             ],
             [
              1,
              "#f0f921"
             ]
            ],
            "type": "surface"
           }
          ],
          "table": [
           {
            "cells": {
             "fill": {
              "color": "#506784"
             },
             "line": {
              "color": "rgb(17,17,17)"
             }
            },
            "header": {
             "fill": {
              "color": "#2a3f5f"
             },
             "line": {
              "color": "rgb(17,17,17)"
             }
            },
            "type": "table"
           }
          ]
         },
         "layout": {
          "annotationdefaults": {
           "arrowcolor": "#f2f5fa",
           "arrowhead": 0,
           "arrowwidth": 1
          },
          "autotypenumbers": "strict",
          "coloraxis": {
           "colorbar": {
            "outlinewidth": 0,
            "ticks": ""
           }
          },
          "colorscale": {
           "diverging": [
            [
             0,
             "#8e0152"
            ],
            [
             0.1,
             "#c51b7d"
            ],
            [
             0.2,
             "#de77ae"
            ],
            [
             0.3,
             "#f1b6da"
            ],
            [
             0.4,
             "#fde0ef"
            ],
            [
             0.5,
             "#f7f7f7"
            ],
            [
             0.6,
             "#e6f5d0"
            ],
            [
             0.7,
             "#b8e186"
            ],
            [
             0.8,
             "#7fbc41"
            ],
            [
             0.9,
             "#4d9221"
            ],
            [
             1,
             "#276419"
            ]
           ],
           "sequential": [
            [
             0,
             "#0d0887"
            ],
            [
             0.1111111111111111,
             "#46039f"
            ],
            [
             0.2222222222222222,
             "#7201a8"
            ],
            [
             0.3333333333333333,
             "#9c179e"
            ],
            [
             0.4444444444444444,
             "#bd3786"
            ],
            [
             0.5555555555555556,
             "#d8576b"
            ],
            [
             0.6666666666666666,
             "#ed7953"
            ],
            [
             0.7777777777777778,
             "#fb9f3a"
            ],
            [
             0.8888888888888888,
             "#fdca26"
            ],
            [
             1,
             "#f0f921"
            ]
           ],
           "sequentialminus": [
            [
             0,
             "#0d0887"
            ],
            [
             0.1111111111111111,
             "#46039f"
            ],
            [
             0.2222222222222222,
             "#7201a8"
            ],
            [
             0.3333333333333333,
             "#9c179e"
            ],
            [
             0.4444444444444444,
             "#bd3786"
            ],
            [
             0.5555555555555556,
             "#d8576b"
            ],
            [
             0.6666666666666666,
             "#ed7953"
            ],
            [
             0.7777777777777778,
             "#fb9f3a"
            ],
            [
             0.8888888888888888,
             "#fdca26"
            ],
            [
             1,
             "#f0f921"
            ]
           ]
          },
          "colorway": [
           "#636efa",
           "#EF553B",
           "#00cc96",
           "#ab63fa",
           "#FFA15A",
           "#19d3f3",
           "#FF6692",
           "#B6E880",
           "#FF97FF",
           "#FECB52"
          ],
          "font": {
           "color": "#f2f5fa"
          },
          "geo": {
           "bgcolor": "rgb(17,17,17)",
           "lakecolor": "rgb(17,17,17)",
           "landcolor": "rgb(17,17,17)",
           "showlakes": true,
           "showland": true,
           "subunitcolor": "#506784"
          },
          "hoverlabel": {
           "align": "left"
          },
          "hovermode": "closest",
          "mapbox": {
           "style": "dark"
          },
          "paper_bgcolor": "rgb(17,17,17)",
          "plot_bgcolor": "rgb(17,17,17)",
          "polar": {
           "angularaxis": {
            "gridcolor": "#506784",
            "linecolor": "#506784",
            "ticks": ""
           },
           "bgcolor": "rgb(17,17,17)",
           "radialaxis": {
            "gridcolor": "#506784",
            "linecolor": "#506784",
            "ticks": ""
           }
          },
          "scene": {
           "xaxis": {
            "backgroundcolor": "rgb(17,17,17)",
            "gridcolor": "#506784",
            "gridwidth": 2,
            "linecolor": "#506784",
            "showbackground": true,
            "ticks": "",
            "zerolinecolor": "#C8D4E3"
           },
           "yaxis": {
            "backgroundcolor": "rgb(17,17,17)",
            "gridcolor": "#506784",
            "gridwidth": 2,
            "linecolor": "#506784",
            "showbackground": true,
            "ticks": "",
            "zerolinecolor": "#C8D4E3"
           },
           "zaxis": {
            "backgroundcolor": "rgb(17,17,17)",
            "gridcolor": "#506784",
            "gridwidth": 2,
            "linecolor": "#506784",
            "showbackground": true,
            "ticks": "",
            "zerolinecolor": "#C8D4E3"
           }
          },
          "shapedefaults": {
           "line": {
            "color": "#f2f5fa"
           }
          },
          "sliderdefaults": {
           "bgcolor": "#C8D4E3",
           "bordercolor": "rgb(17,17,17)",
           "borderwidth": 1,
           "tickwidth": 0
          },
          "ternary": {
           "aaxis": {
            "gridcolor": "#506784",
            "linecolor": "#506784",
            "ticks": ""
           },
           "baxis": {
            "gridcolor": "#506784",
            "linecolor": "#506784",
            "ticks": ""
           },
           "bgcolor": "rgb(17,17,17)",
           "caxis": {
            "gridcolor": "#506784",
            "linecolor": "#506784",
            "ticks": ""
           }
          },
          "title": {
           "x": 0.05
          },
          "updatemenudefaults": {
           "bgcolor": "#506784",
           "borderwidth": 0
          },
          "xaxis": {
           "automargin": true,
           "gridcolor": "#283442",
           "linecolor": "#506784",
           "ticks": "",
           "title": {
            "standoff": 15
           },
           "zerolinecolor": "#283442",
           "zerolinewidth": 2
          },
          "yaxis": {
           "automargin": true,
           "gridcolor": "#283442",
           "linecolor": "#506784",
           "ticks": "",
           "title": {
            "standoff": 15
           },
           "zerolinecolor": "#283442",
           "zerolinewidth": 2
          }
         }
        },
        "xaxis": {
         "anchor": "y",
         "autorange": true,
         "domain": [
          0,
          1
         ],
         "range": [
          -5.726647000983284,
          364
         ],
         "title": {
          "text": "cohort"
         },
         "type": "category"
        },
        "yaxis": {
         "anchor": "x",
         "autorange": true,
         "domain": [
          0,
          1
         ],
         "range": [
          0.021354581673306772,
          0.2986454183266933
         ],
         "title": {
          "text": "retention"
         },
         "type": "linear"
        }
       }
      },
      "image/png": "[encoded data removed]",
      "text/html": [
       "<div>                            <div id=\"40622a2f-8def-434f-85a2-ba604c1ee884\" class=\"plotly-graph-div\" style=\"height:525px; width:100%;\"></div>            <script type=\"text/javascript\">                require([\"plotly\"], function(Plotly) {                    window.PLOTLYENV=window.PLOTLYENV || {};                                    if (document.getElementById(\"40622a2f-8def-434f-85a2-ba604c1ee884\")) {                    Plotly.newPlot(                        \"40622a2f-8def-434f-85a2-ba604c1ee884\",                        [{\"hovertemplate\": \"cohort=%{x}<br>retention=%{y}<extra></extra>\", \"legendgroup\": \"\", \"line\": {\"color\": \"#636efa\", \"dash\": \"solid\"}, \"mode\": \"lines\", \"name\": \"\", \"orientation\": \"v\", \"showlegend\": false, \"type\": \"scatter\", \"x\": [\"1 days\", \"2 days\", \"3 days\", \"4 days\", \"5 days\", \"6 days\", \"7 days\", \"8 days\", \"9 days\", \"10 days\", \"11 days\", \"12 days\", \"13 days\", \"14 days\", \"15 days\", \"16 days\", \"17 days\", \"18 days\", \"19 days\", \"20 days\", \"21 days\", \"22 days\", \"23 days\", \"24 days\", \"25 days\", \"26 days\", \"27 days\", \"28 days\", \"29 days\", \"30 days\", \"31 days\", \"32 days\", \"33 days\", \"34 days\", \"35 days\", \"36 days\", \"37 days\", \"38 days\", \"39 days\", \"40 days\", \"41 days\", \"42 days\", \"43 days\", \"44 days\", \"45 days\", \"46 days\", \"47 days\", \"48 days\", \"49 days\", \"50 days\", \"51 days\", \"52 days\", \"53 days\", \"54 days\", \"55 days\", \"56 days\", \"57 days\", \"58 days\", \"59 days\", \"60 days\", \"61 days\", \"62 days\", \"63 days\", \"64 days\", \"65 days\", \"66 days\", \"67 days\", \"68 days\", \"69 days\", \"70 days\", \"71 days\", \"72 days\", \"73 days\", \"74 days\", \"75 days\", \"76 days\", \"77 days\", \"78 days\", \"79 days\", \"80 days\", \"81 days\", \"82 days\", \"83 days\", \"84 days\", \"85 days\", \"86 days\", \"87 days\", \"88 days\", \"89 days\", \"90 days\", \"91 days\", \"92 days\", \"93 days\", \"94 days\", \"95 days\", \"96 days\", \"97 days\", \"98 days\", \"99 days\", \"100 days\", \"101 days\", \"102 days\", \"103 days\", \"104 days\", \"105 days\", \"106 days\", \"107 days\", \"108 days\", \"109 days\", \"110 days\", \"111 days\", \"112 days\", \"113 days\", \"114 days\", \"115 days\", \"116 days\", \"117 days\", \"118 days\", \"119 days\", \"120 days\", \"121 days\", \"122 days\", \"123 days\", \"124 days\", \"125 days\", \"126 days\", \"127 days\", \"128 days\", \"129 days\", \"130 days\", \"131 days\", \"132 days\", \"133 days\", \"134 days\", \"135 days\", \"136 days\", \"137 days\", \"138 days\", \"139 days\", \"140 days\", \"141 days\", \"142 days\", \"143 days\", \"144 days\", \"145 days\", \"146 days\", \"147 days\", \"148 days\", \"149 days\", \"150 days\", \"151 days\", \"152 days\", \"153 days\", \"154 days\", \"155 days\", \"156 days\", \"157 days\", \"158 days\", \"159 days\", \"160 days\", \"161 days\", \"162 days\", \"163 days\", \"164 days\", \"165 days\", \"166 days\", \"167 days\", \"168 days\", \"169 days\", \"170 days\", \"171 days\", \"172 days\", \"173 days\", \"174 days\", \"175 days\", \"176 days\", \"177 days\", \"178 days\", \"179 days\", \"180 days\", \"181 days\", \"182 days\", \"183 days\", \"184 days\", \"185 days\", \"186 days\", \"187 days\", \"188 days\", \"189 days\", \"190 days\", \"191 days\", \"192 days\", \"193 days\", \"194 days\", \"195 days\", \"196 days\", \"197 days\", \"198 days\", \"199 days\", \"200 days\", \"201 days\", \"202 days\", \"203 days\", \"204 days\", \"205 days\", \"206 days\", \"207 days\", \"208 days\", \"209 days\", \"210 days\", \"211 days\", \"212 days\", \"213 days\", \"214 days\", \"215 days\", \"216 days\", \"217 days\", \"218 days\", \"219 days\", \"220 days\", \"221 days\", \"222 days\", \"223 days\", \"224 days\", \"225 days\", \"226 days\", \"227 days\", \"228 days\", \"229 days\", \"230 days\", \"231 days\", \"232 days\", \"233 days\", \"234 days\", \"235 days\", \"236 days\", \"237 days\", \"238 days\", \"239 days\", \"240 days\", \"241 days\", \"242 days\", \"243 days\", \"244 days\", \"245 days\", \"246 days\", \"247 days\", \"248 days\", \"249 days\", \"250 days\", \"251 days\", \"252 days\", \"253 days\", \"254 days\", \"255 days\", \"256 days\", \"257 days\", \"258 days\", \"259 days\", \"260 days\", \"261 days\", \"262 days\", \"263 days\", \"264 days\", \"265 days\", \"266 days\", \"267 days\", \"268 days\", \"269 days\", \"270 days\", \"271 days\", \"272 days\", \"273 days\", \"274 days\", \"275 days\", \"276 days\", \"277 days\", \"278 days\", \"279 days\", \"280 days\", \"281 days\", \"282 days\", \"283 days\", \"284 days\", \"285 days\", \"286 days\", \"287 days\", \"288 days\", \"289 days\", \"290 days\", \"291 days\", \"292 days\", \"293 days\", \"294 days\", \"295 days\", \"296 days\", \"297 days\", \"298 days\", \"299 days\", \"300 days\", \"301 days\", \"302 days\", \"303 days\", \"304 days\", \"305 days\", \"306 days\", \"307 days\", \"308 days\", \"309 days\", \"310 days\", \"311 days\", \"312 days\", \"313 days\", \"314 days\", \"315 days\", \"316 days\", \"317 days\", \"318 days\", \"319 days\", \"320 days\", \"321 days\", \"322 days\", \"323 days\", \"324 days\", \"325 days\", \"326 days\", \"327 days\", \"328 days\", \"329 days\", \"330 days\", \"331 days\", \"332 days\", \"333 days\", \"334 days\", \"335 days\", \"336 days\", \"337 days\", \"338 days\", \"339 days\", \"340 days\", \"341 days\", \"342 days\", \"343 days\", \"344 days\", \"345 days\", \"346 days\", \"347 days\", \"348 days\", \"349 days\", \"350 days\", \"351 days\", \"352 days\", \"353 days\", \"354 days\", \"355 days\", \"356 days\", \"357 days\", \"358 days\", \"359 days\", \"360 days\", \"361 days\", \"362 days\", \"363 days\", \"364 days\", \"365 days\"], \"xaxis\": \"x\", \"y\": [0.28, 0.2, 0.18, 0.17, 0.16, 0.15, 0.15, 0.14, 0.13, 0.13, 0.13, 0.13, 0.13, 0.13, 0.12, 0.12, 0.12, 0.12, 0.12, 0.11, 0.12, 0.11, 0.1, 0.11, 0.12, 0.11, 0.11, 0.11, 0.11, 0.1, 0.1, 0.1, 0.11, 0.1, 0.11, 0.1, 0.09, 0.09, 0.1, 0.1, 0.1, 0.1, 0.1, 0.1, 0.1, 0.1, 0.1, 0.1, 0.1, 0.09, 0.09, 0.09, 0.1, 0.1, 0.09, 0.09, 0.09, 0.09, 0.09, 0.09, 0.09, 0.09, 0.09, 0.09, 0.09, 0.09, 0.09, 0.09, 0.09, 0.09, 0.09, 0.09, 0.09, 0.09, 0.09, 0.09, 0.09, 0.09, 0.09, 0.09, 0.09, 0.09, 0.09, 0.09, 0.1, 0.07, 0.09, 0.11, 0.11, 0.1, 0.1, 0.09, 0.06, 0.05, 0.06, 0.06, 0.1, 0.1, 0.1, 0.1, 0.1, 0.1, 0.11, 0.1, 0.1, 0.1, 0.1, 0.1, 0.1, 0.1, 0.1, 0.1, 0.1, 0.1, 0.09, 0.1, 0.1, 0.09, 0.09, 0.07, 0.05, 0.05, 0.05, 0.05, 0.06, 0.09, 0.1, 0.09, 0.09, 0.1, 0.1, 0.09, 0.09, 0.09, 0.09, 0.07, 0.05, 0.06, 0.09, 0.09, 0.09, 0.09, 0.09, 0.1, 0.09, 0.09, 0.09, 0.09, 0.09, 0.09, 0.09, 0.09, 0.09, 0.09, 0.09, 0.09, 0.09, 0.09, 0.09, 0.09, 0.09, 0.08, 0.08, 0.06, 0.04, 0.05, 0.05, 0.06, 0.08, 0.08, 0.08, 0.09, 0.06, 0.08, 0.09, 0.09, 0.09, 0.09, 0.09, 0.09, 0.09, 0.09, 0.09, 0.08, 0.09, 0.09, 0.09, 0.09, 0.09, 0.08, 0.08, 0.09, 0.09, 0.09, 0.09, 0.09, 0.09, 0.09, 0.09, 0.09, 0.09, 0.08, 0.09, 0.08, 0.08, 0.08, 0.09, 0.09, 0.09, 0.09, 0.09, 0.08, 0.09, 0.09, 0.08, 0.08, 0.08, 0.08, 0.08, 0.08, 0.09, 0.09, 0.08, 0.08, 0.08, 0.08, 0.08, 0.09, 0.08, 0.08, 0.09, 0.08, 0.08, 0.08, 0.09, 0.09, 0.08, 0.08, 0.08, 0.08, 0.08, 0.09, 0.09, 0.08, 0.08, 0.08, 0.08, 0.08, 0.08, 0.08, 0.08, 0.08, 0.08, 0.08, 0.08, 0.09, 0.09, 0.08, 0.08, 0.08, 0.07, 0.08, 0.08, 0.08, 0.08, 0.08, 0.08, 0.08, 0.08, 0.09, 0.09, 0.09, 0.08, 0.08, 0.08, 0.08, 0.08, 0.08, 0.08, 0.08, 0.08, 0.07, 0.08, 0.07, 0.08, 0.07, 0.07, 0.07, 0.07, 0.07, 0.08, 0.08, 0.08, 0.08, 0.08, 0.07, 0.09, 0.1, 0.1, 0.09, 0.09, 0.09, 0.08, 0.08, 0.09, 0.09, 0.08, 0.08, 0.08, 0.08, 0.09, 0.09, 0.09, 0.08, 0.08, 0.08, 0.08, 0.08, 0.09, 0.09, 0.07, 0.05, 0.08, 0.08, 0.08, 0.09, 0.09, 0.09, 0.09, 0.08, 0.08, 0.09, 0.09, 0.1, 0.09, 0.1, 0.09, 0.09, 0.09, 0.1, 0.11, 0.1, 0.1, 0.1, 0.11, 0.11, 0.12, 0.12, 0.12, 0.12, 0.12, 0.12, 0.13, 0.13, 0.14, 0.13, 0.14, 0.14, 0.14, 0.16, 0.17, 0.18, 0.18, 0.19, 0.2], \"yaxis\": \"y\"}],                        {\"annotations\": [{\"align\": \"right\", \"opacity\": 0.7, \"showarrow\": false, \"text\": \"0.28\", \"x\": \"1 days\", \"y\": 0.28, \"yshift\": 10}, {\"align\": \"right\", \"opacity\": 0.7, \"showarrow\": false, \"text\": \"0.04\", \"x\": \"165 days\", \"y\": 0.04, \"yshift\": -10}], \"legend\": {\"tracegroupgap\": 0}, \"margin\": {\"t\": 60}, \"template\": {\"data\": {\"bar\": [{\"error_x\": {\"color\": \"#f2f5fa\"}, \"error_y\": {\"color\": \"#f2f5fa\"}, \"marker\": {\"line\": {\"color\": \"rgb(17,17,17)\", \"width\": 0.5}}, \"type\": \"bar\"}], \"barpolar\": [{\"marker\": {\"line\": {\"color\": \"rgb(17,17,17)\", \"width\": 0.5}}, \"type\": \"barpolar\"}], \"carpet\": [{\"aaxis\": {\"endlinecolor\": \"#A2B1C6\", \"gridcolor\": \"#506784\", \"linecolor\": \"#506784\", \"minorgridcolor\": \"#506784\", \"startlinecolor\": \"#A2B1C6\"}, \"baxis\": {\"endlinecolor\": \"#A2B1C6\", \"gridcolor\": \"#506784\", \"linecolor\": \"#506784\", \"minorgridcolor\": \"#506784\", \"startlinecolor\": \"#A2B1C6\"}, \"type\": \"carpet\"}], \"choropleth\": [{\"colorbar\": {\"outlinewidth\": 0, \"ticks\": \"\"}, \"type\": \"choropleth\"}], \"contour\": [{\"colorbar\": {\"outlinewidth\": 0, \"ticks\": \"\"}, \"colorscale\": [[0.0, \"#0d0887\"], [0.1111111111111111, \"#46039f\"], [0.2222222222222222, \"#7201a8\"], [0.3333333333333333, \"#9c179e\"], [0.4444444444444444, \"#bd3786\"], [0.5555555555555556, \"#d8576b\"], [0.6666666666666666, \"#ed7953\"], [0.7777777777777778, \"#fb9f3a\"], [0.8888888888888888, \"#fdca26\"], [1.0, \"#f0f921\"]], \"type\": \"contour\"}], \"contourcarpet\": [{\"colorbar\": {\"outlinewidth\": 0, \"ticks\": \"\"}, \"type\": \"contourcarpet\"}], \"heatmap\": [{\"colorbar\": {\"outlinewidth\": 0, \"ticks\": \"\"}, \"colorscale\": [[0.0, \"#0d0887\"], [0.1111111111111111, \"#46039f\"], [0.2222222222222222, \"#7201a8\"], [0.3333333333333333, \"#9c179e\"], [0.4444444444444444, \"#bd3786\"], [0.5555555555555556, \"#d8576b\"], [0.6666666666666666, \"#ed7953\"], [0.7777777777777778, \"#fb9f3a\"], [0.8888888888888888, \"#fdca26\"], [1.0, \"#f0f921\"]], \"type\": \"heatmap\"}], \"heatmapgl\": [{\"colorbar\": {\"outlinewidth\": 0, \"ticks\": \"\"}, \"colorscale\": [[0.0, \"#0d0887\"], [0.1111111111111111, \"#46039f\"], [0.2222222222222222, \"#7201a8\"], [0.3333333333333333, \"#9c179e\"], [0.4444444444444444, \"#bd3786\"], [0.5555555555555556, \"#d8576b\"], [0.6666666666666666, \"#ed7953\"], [0.7777777777777778, \"#fb9f3a\"], [0.8888888888888888, \"#fdca26\"], [1.0, \"#f0f921\"]], \"type\": \"heatmapgl\"}], \"histogram\": [{\"marker\": {\"colorbar\": {\"outlinewidth\": 0, \"ticks\": \"\"}}, \"type\": \"histogram\"}], \"histogram2d\": [{\"colorbar\": {\"outlinewidth\": 0, \"ticks\": \"\"}, \"colorscale\": [[0.0, \"#0d0887\"], [0.1111111111111111, \"#46039f\"], [0.2222222222222222, \"#7201a8\"], [0.3333333333333333, \"#9c179e\"], [0.4444444444444444, \"#bd3786\"], [0.5555555555555556, \"#d8576b\"], [0.6666666666666666, \"#ed7953\"], [0.7777777777777778, \"#fb9f3a\"], [0.8888888888888888, \"#fdca26\"], [1.0, \"#f0f921\"]], \"type\": \"histogram2d\"}], \"histogram2dcontour\": [{\"colorbar\": {\"outlinewidth\": 0, \"ticks\": \"\"}, \"colorscale\": [[0.0, \"#0d0887\"], [0.1111111111111111, \"#46039f\"], [0.2222222222222222, \"#7201a8\"], [0.3333333333333333, \"#9c179e\"], [0.4444444444444444, \"#bd3786\"], [0.5555555555555556, \"#d8576b\"], [0.6666666666666666, \"#ed7953\"], [0.7777777777777778, \"#fb9f3a\"], [0.8888888888888888, \"#fdca26\"], [1.0, \"#f0f921\"]], \"type\": \"histogram2dcontour\"}], \"mesh3d\": [{\"colorbar\": {\"outlinewidth\": 0, \"ticks\": \"\"}, \"type\": \"mesh3d\"}], \"parcoords\": [{\"line\": {\"colorbar\": {\"outlinewidth\": 0, \"ticks\": \"\"}}, \"type\": \"parcoords\"}], \"pie\": [{\"automargin\": true, \"type\": \"pie\"}], \"scatter\": [{\"marker\": {\"line\": {\"color\": \"#283442\"}}, \"type\": \"scatter\"}], \"scatter3d\": [{\"line\": {\"colorbar\": {\"outlinewidth\": 0, \"ticks\": \"\"}}, \"marker\": {\"colorbar\": {\"outlinewidth\": 0, \"ticks\": \"\"}}, \"type\": \"scatter3d\"}], \"scattercarpet\": [{\"marker\": {\"colorbar\": {\"outlinewidth\": 0, \"ticks\": \"\"}}, \"type\": \"scattercarpet\"}], \"scattergeo\": [{\"marker\": {\"colorbar\": {\"outlinewidth\": 0, \"ticks\": \"\"}}, \"type\": \"scattergeo\"}], \"scattergl\": [{\"marker\": {\"line\": {\"color\": \"#283442\"}}, \"type\": \"scattergl\"}], \"scattermapbox\": [{\"marker\": {\"colorbar\": {\"outlinewidth\": 0, \"ticks\": \"\"}}, \"type\": \"scattermapbox\"}], \"scatterpolar\": [{\"marker\": {\"colorbar\": {\"outlinewidth\": 0, \"ticks\": \"\"}}, \"type\": \"scatterpolar\"}], \"scatterpolargl\": [{\"marker\": {\"colorbar\": {\"outlinewidth\": 0, \"ticks\": \"\"}}, \"type\": \"scatterpolargl\"}], \"scatterternary\": [{\"marker\": {\"colorbar\": {\"outlinewidth\": 0, \"ticks\": \"\"}}, \"type\": \"scatterternary\"}], \"surface\": [{\"colorbar\": {\"outlinewidth\": 0, \"ticks\": \"\"}, \"colorscale\": [[0.0, \"#0d0887\"], [0.1111111111111111, \"#46039f\"], [0.2222222222222222, \"#7201a8\"], [0.3333333333333333, \"#9c179e\"], [0.4444444444444444, \"#bd3786\"], [0.5555555555555556, \"#d8576b\"], [0.6666666666666666, \"#ed7953\"], [0.7777777777777778, \"#fb9f3a\"], [0.8888888888888888, \"#fdca26\"], [1.0, \"#f0f921\"]], \"type\": \"surface\"}], \"table\": [{\"cells\": {\"fill\": {\"color\": \"#506784\"}, \"line\": {\"color\": \"rgb(17,17,17)\"}}, \"header\": {\"fill\": {\"color\": \"#2a3f5f\"}, \"line\": {\"color\": \"rgb(17,17,17)\"}}, \"type\": \"table\"}]}, \"layout\": {\"annotationdefaults\": {\"arrowcolor\": \"#f2f5fa\", \"arrowhead\": 0, \"arrowwidth\": 1}, \"autotypenumbers\": \"strict\", \"coloraxis\": {\"colorbar\": {\"outlinewidth\": 0, \"ticks\": \"\"}}, \"colorscale\": {\"diverging\": [[0, \"#8e0152\"], [0.1, \"#c51b7d\"], [0.2, \"#de77ae\"], [0.3, \"#f1b6da\"], [0.4, \"#fde0ef\"], [0.5, \"#f7f7f7\"], [0.6, \"#e6f5d0\"], [0.7, \"#b8e186\"], [0.8, \"#7fbc41\"], [0.9, \"#4d9221\"], [1, \"#276419\"]], \"sequential\": [[0.0, \"#0d0887\"], [0.1111111111111111, \"#46039f\"], [0.2222222222222222, \"#7201a8\"], [0.3333333333333333, \"#9c179e\"], [0.4444444444444444, \"#bd3786\"], [0.5555555555555556, \"#d8576b\"], [0.6666666666666666, \"#ed7953\"], [0.7777777777777778, \"#fb9f3a\"], [0.8888888888888888, \"#fdca26\"], [1.0, \"#f0f921\"]], \"sequentialminus\": [[0.0, \"#0d0887\"], [0.1111111111111111, \"#46039f\"], [0.2222222222222222, \"#7201a8\"], [0.3333333333333333, \"#9c179e\"], [0.4444444444444444, \"#bd3786\"], [0.5555555555555556, \"#d8576b\"], [0.6666666666666666, \"#ed7953\"], [0.7777777777777778, \"#fb9f3a\"], [0.8888888888888888, \"#fdca26\"], [1.0, \"#f0f921\"]]}, \"colorway\": [\"#636efa\", \"#EF553B\", \"#00cc96\", \"#ab63fa\", \"#FFA15A\", \"#19d3f3\", \"#FF6692\", \"#B6E880\", \"#FF97FF\", \"#FECB52\"], \"font\": {\"color\": \"#f2f5fa\"}, \"geo\": {\"bgcolor\": \"rgb(17,17,17)\", \"lakecolor\": \"rgb(17,17,17)\", \"landcolor\": \"rgb(17,17,17)\", \"showlakes\": true, \"showland\": true, \"subunitcolor\": \"#506784\"}, \"hoverlabel\": {\"align\": \"left\"}, \"hovermode\": \"closest\", \"mapbox\": {\"style\": \"dark\"}, \"paper_bgcolor\": \"rgb(17,17,17)\", \"plot_bgcolor\": \"rgb(17,17,17)\", \"polar\": {\"angularaxis\": {\"gridcolor\": \"#506784\", \"linecolor\": \"#506784\", \"ticks\": \"\"}, \"bgcolor\": \"rgb(17,17,17)\", \"radialaxis\": {\"gridcolor\": \"#506784\", \"linecolor\": \"#506784\", \"ticks\": \"\"}}, \"scene\": {\"xaxis\": {\"backgroundcolor\": \"rgb(17,17,17)\", \"gridcolor\": \"#506784\", \"gridwidth\": 2, \"linecolor\": \"#506784\", \"showbackground\": true, \"ticks\": \"\", \"zerolinecolor\": \"#C8D4E3\"}, \"yaxis\": {\"backgroundcolor\": \"rgb(17,17,17)\", \"gridcolor\": \"#506784\", \"gridwidth\": 2, \"linecolor\": \"#506784\", \"showbackground\": true, \"ticks\": \"\", \"zerolinecolor\": \"#C8D4E3\"}, \"zaxis\": {\"backgroundcolor\": \"rgb(17,17,17)\", \"gridcolor\": \"#506784\", \"gridwidth\": 2, \"linecolor\": \"#506784\", \"showbackground\": true, \"ticks\": \"\", \"zerolinecolor\": \"#C8D4E3\"}}, \"shapedefaults\": {\"line\": {\"color\": \"#f2f5fa\"}}, \"sliderdefaults\": {\"bgcolor\": \"#C8D4E3\", \"bordercolor\": \"rgb(17,17,17)\", \"borderwidth\": 1, \"tickwidth\": 0}, \"ternary\": {\"aaxis\": {\"gridcolor\": \"#506784\", \"linecolor\": \"#506784\", \"ticks\": \"\"}, \"baxis\": {\"gridcolor\": \"#506784\", \"linecolor\": \"#506784\", \"ticks\": \"\"}, \"bgcolor\": \"rgb(17,17,17)\", \"caxis\": {\"gridcolor\": \"#506784\", \"linecolor\": \"#506784\", \"ticks\": \"\"}}, \"title\": {\"x\": 0.05}, \"updatemenudefaults\": {\"bgcolor\": \"#506784\", \"borderwidth\": 0}, \"xaxis\": {\"automargin\": true, \"gridcolor\": \"#283442\", \"linecolor\": \"#506784\", \"ticks\": \"\", \"title\": {\"standoff\": 15}, \"zerolinecolor\": \"#283442\", \"zerolinewidth\": 2}, \"yaxis\": {\"automargin\": true, \"gridcolor\": \"#283442\", \"linecolor\": \"#506784\", \"ticks\": \"\", \"title\": {\"standoff\": 15}, \"zerolinecolor\": \"#283442\", \"zerolinewidth\": 2}}}, \"xaxis\": {\"anchor\": \"y\", \"domain\": [0.0, 1.0], \"title\": {\"text\": \"cohort\"}}, \"yaxis\": {\"anchor\": \"x\", \"domain\": [0.0, 1.0], \"title\": {\"text\": \"retention\"}}},                        {\"responsive\": true}                    ).then(function(){\n",
       "                            \n",
       "var gd = document.getElementById('40622a2f-8def-434f-85a2-ba604c1ee884');\n",
       "var x = new MutationObserver(function (mutations, observer) {{\n",
       "        var display = window.getComputedStyle(gd).display;\n",
       "        if (!display || display === 'none') {{\n",
       "            console.log([gd, 'removed!']);\n",
       "            Plotly.purge(gd);\n",
       "            observer.disconnect();\n",
       "        }}\n",
       "}});\n",
       "\n",
       "// Listen for the removal of the full notebook cells\n",
       "var notebookContainer = gd.closest('#notebook-container');\n",
       "if (notebookContainer) {{\n",
       "    x.observe(notebookContainer, {childList: true});\n",
       "}}\n",
       "\n",
       "// Listen for the clearing of the current output cell\n",
       "var outputEl = gd.closest('.output');\n",
       "if (outputEl) {{\n",
       "    x.observe(outputEl, {childList: true});\n",
       "}}\n",
       "\n",
       "                        })                };                });            </script>        </div>"
      ]
     },
     "metadata": {},
     "output_type": "display_data"
    }
   ],
   "source": [
    "fig = px.line(retention_df, x='cohort', y='retention', template='plotly_dark')\n",
    "fig.add_annotation(showarrow=False,\n",
    "                   align = 'right',\n",
    "                   x=retention_df.cohort[retention_df.max(axis = 1).idxmax()],\n",
    "                   y=retention_df.max().retention,\n",
    "                   text=str(retention_df.max().retention),\n",
    "                   yshift=10,\n",
    "                   opacity=0.7)\n",
    "fig.add_annotation(showarrow=False,\n",
    "                   align = 'right',\n",
    "                   x=retention_df.cohort[retention_df.min(axis = 1).idxmin()],\n",
    "                   y=retention_df.min().retention,\n",
    "                   text=str(retention_df.min().retention),\n",
    "                   yshift=-10,\n",
    "                   opacity=0.7)\n",
    "fig.show()\n",
    "fig.write_image(\"img/retention.png\")"
   ]
  },
  {
   "cell_type": "code",
   "execution_count": null,
   "metadata": {},
   "outputs": [],
   "source": []
  },
  {
   "cell_type": "code",
   "execution_count": null,
   "metadata": {},
   "outputs": [],
   "source": []
  },
  {
   "cell_type": "code",
   "execution_count": null,
   "metadata": {},
   "outputs": [],
   "source": []
  }
 ],
 "metadata": {
  "kernelspec": {
   "display_name": "Python 3",
   "language": "python",
   "name": "python3"
  },
  "language_info": {
   "codemirror_mode": {
    "name": "ipython",
    "version": 3
   },
   "file_extension": ".py",
   "mimetype": "text/x-python",
   "name": "python",
   "nbconvert_exporter": "python",
   "pygments_lexer": "ipython3",
   "version": "3.8.3"
  }
 },
 "nbformat": 4,
 "nbformat_minor": 4
}
